{
 "cells": [
  {
   "cell_type": "markdown",
   "metadata": {},
   "source": [
    "<a href=\"https://cognitiveclass.ai/?utm_medium=Exinfluencer&utm_source=Exinfluencer&utm_content=000026UJ&utm_term=10006555&utm_id=NA-SkillsNetwork-Channel-SkillsNetworkCoursesIBMDeveloperSkillsNetworkRP0321ENSkillsNetwork25371262-2022-01-01\">\n",
    "    <img src=\"https://cf-courses-data.s3.us.cloud-object-storage.appdomain.cloud/IBMDeveloperSkillsNetwork-RP0101EN-Coursera/v2/M1_R_Basics/images/IDSNlogo.png\" width=\"200\" align=\"center\">\n",
    "</a>\n"
   ]
  },
  {
   "cell_type": "markdown",
   "metadata": {},
   "source": [
    "<h1>Predict Hourly Rented Bike Count using Basic Linear Regression Models</h1>\n",
    "\n",
    "Estimated time needed: **90** minutes\n"
   ]
  },
  {
   "cell_type": "markdown",
   "metadata": {},
   "source": [
    "## Lab Overview:\n",
    "\n",
    "Now that you have performed exploratory analysis on the bike sharing demand dataset and obtained some insights on the attributes, it's time to build predictive models to predict the hourly rented bike count using related weather and date information.\n",
    "\n",
    "In this lab, you will be asked to use `tidymodels` to build some baseline linear regression models:\n",
    "\n",
    "*   **TASK: Split data into training and testing datasets**\n",
    "*   **TASK: Build a linear regression model using only the weather variables**\n",
    "*   **TASK: Build a linear regression model using both weather and date variables**\n",
    "*   **TASK: Evaluate the models and identify important variables**\n",
    "\n",
    "Let's start!\n"
   ]
  },
  {
   "cell_type": "markdown",
   "metadata": {},
   "source": [
    "First install and import the necessary libraries\n"
   ]
  },
  {
   "cell_type": "code",
   "execution_count": 15,
   "metadata": {},
   "outputs": [
    {
     "data": {
      "text/plain": [
       "[1] ‘1.0.4’"
      ]
     },
     "metadata": {},
     "output_type": "display_data"
    }
   ],
   "source": [
    "# It may take several minutes to install those libraries in Watson Studio\n",
    "#install.packages(\"rlang\")\n",
    "#install.packages(\"tidymodels\")\n",
    "#install.packages(\"tidyverse\")"
   ]
  },
  {
   "cell_type": "code",
   "execution_count": 1,
   "metadata": {},
   "outputs": [
    {
     "data": {
      "text/plain": [
       "[1] ‘0.4.5’"
      ]
     },
     "metadata": {},
     "output_type": "display_data"
    },
    {
     "name": "stderr",
     "output_type": "stream",
     "text": [
      "── Attaching packages ─────────────────────────────────────── tidyverse 1.3.0 ──\n",
      "✔ ggplot2 3.3.0     ✔ purrr   0.3.4\n",
      "✔ tibble  3.0.1     ✔ dplyr   0.8.5\n",
      "✔ tidyr   1.0.2     ✔ stringr 1.4.0\n",
      "✔ readr   1.3.1     ✔ forcats 0.5.0\n",
      "── Conflicts ────────────────────────────────────────── tidyverse_conflicts() ──\n",
      "✖ dplyr::filter() masks stats::filter()\n",
      "✖ dplyr::lag()    masks stats::lag()\n",
      "── Attaching packages ────────────────────────────────────── tidymodels 0.1.0 ──\n",
      "✔ broom     0.5.6      ✔ rsample   0.0.5 \n",
      "✔ dials     0.0.6      ✔ tune      0.1.0 \n",
      "✔ infer     0.5.1      ✔ workflows 0.1.1 \n",
      "✔ parsnip   0.1.0      ✔ yardstick 0.0.6 \n",
      "✔ recipes   0.1.12     \n",
      "── Conflicts ───────────────────────────────────────── tidymodels_conflicts() ──\n",
      "✖ scales::discard() masks purrr::discard()\n",
      "✖ dplyr::filter()   masks stats::filter()\n",
      "✖ recipes::fixed()  masks stringr::fixed()\n",
      "✖ dplyr::lag()      masks stats::lag()\n",
      "✖ dials::margin()   masks ggplot2::margin()\n",
      "✖ yardstick::spec() masks readr::spec()\n",
      "✖ recipes::step()   masks stats::step()\n"
     ]
    }
   ],
   "source": [
    "packageVersion(\"rlang\")\n",
    "library(\"tidyverse\")\n",
    "library(\"stringr\")\n",
    "library(\"tidymodels\")"
   ]
  },
  {
   "cell_type": "markdown",
   "metadata": {},
   "source": [
    "The `seoul_bike_sharing_converted_normalized.csv` will be our main dataset which has following variables:\n",
    "\n",
    "The response variable:\n",
    "\n",
    "*   `RENTED BIKE COUNT`- Count of bikes rented at each hour\n",
    "\n",
    "Weather predictor variables:\n",
    "\n",
    "*   `TEMPERATURE` - Temperature in Celsius\n",
    "*   `HUMIDITY` - Unit is `%`\n",
    "*   `WIND_SPEED` - Unit is `m/s`\n",
    "*   `VISIBILITY` - Multiplied by 10m\n",
    "*   `DEW_POINT_TEMPERATURE` - The temperature to which the air would have to cool down in order to reach saturation, unit is Celsius\n",
    "*   `SOLAR_RADIATION` - MJ/m2\n",
    "*   `RAINFALL` - mm\n",
    "*   `SNOWFALL` - cm\n",
    "\n",
    "Date/time predictor variables:\n",
    "\n",
    "*   `DATE` - Year-month-day\n",
    "*   `HOUR`- Hour of he day\n",
    "*   `FUNCTIONAL DAY` - NoFunc(Non Functional Hours), Fun(Functional hours)\n",
    "*   `HOLIDAY` - Holiday/No holiday\n",
    "*   `SEASONS` - Winter, Spring, Summer, Autumn\n"
   ]
  },
  {
   "cell_type": "markdown",
   "metadata": {},
   "source": [
    "Let's read the dataset as a dataframe first:\n"
   ]
  },
  {
   "cell_type": "code",
   "execution_count": 2,
   "metadata": {},
   "outputs": [
    {
     "name": "stderr",
     "output_type": "stream",
     "text": [
      "Parsed with column specification:\n",
      "cols(\n",
      "  .default = col_double(),\n",
      "  DATE = col_character(),\n",
      "  FUNCTIONING_DAY = col_character()\n",
      ")\n",
      "See spec(...) for full column specifications.\n"
     ]
    },
    {
     "ename": "ERROR",
     "evalue": "Error: `truth` is missing and must be supplied.\n",
     "execution_count": 2,
     "output_type": "error",
     "traceback": [
      "Error: `truth` is missing and must be supplied.\nTraceback:\n",
      "1. spec(bike_sharing_df)",
      "2. spec.data.frame(bike_sharing_df)",
      "3. metric_summarizer(metric_nm = \"spec\", metric_fn = spec_vec, data = data, \n .     truth = !!enquo(truth), estimate = !!enquo(estimate), estimator = estimator, \n .     na_rm = na_rm, ... = ...)",
      "4. validate_not_missing(truth, \"truth\")",
      "5. abort(paste0(\"`\", nm, \"` \", \"is missing and must be supplied.\"))",
      "6. signal_abort(cnd)"
     ]
    }
   ],
   "source": [
    "# Dataset URL\n",
    "dataset_url <- \"https://cf-courses-data.s3.us.cloud-object-storage.appdomain.cloud/IBMDeveloperSkillsNetwork-RP0321EN-SkillsNetwork/labs/datasets/seoul_bike_sharing_converted_normalized.csv\"\n",
    "bike_sharing_df <- read_csv(dataset_url)\n",
    "spec(bike_sharing_df)"
   ]
  },
  {
   "cell_type": "markdown",
   "metadata": {},
   "source": [
    "We won't be using the `DATE` column, because 'as is', it basically acts like an data entry index. (However, given more time, we could use the `DATE` colum to create a 'day of week' or 'isWeekend' column, which we might expect has an affect on preferred bike rental times.) We also do not need the `FUNCTIONAL DAY` column because it only has one distinct value remaining (`YES`) after missing value processing.\n"
   ]
  },
  {
   "cell_type": "code",
   "execution_count": 3,
   "metadata": {},
   "outputs": [
    {
     "data": {
      "text/html": [
       "<table>\n",
       "<caption>A spec_tbl_df: 8465 × 39</caption>\n",
       "<thead>\n",
       "\t<tr><th scope=col>RENTED_BIKE_COUNT</th><th scope=col>TEMPERATURE</th><th scope=col>HUMIDITY</th><th scope=col>WIND_SPEED</th><th scope=col>VISIBILITY</th><th scope=col>DEW_POINT_TEMPERATURE</th><th scope=col>SOLAR_RADIATION</th><th scope=col>RAINFALL</th><th scope=col>SNOWFALL</th><th scope=col>0</th><th scope=col>⋯</th><th scope=col>6</th><th scope=col>7</th><th scope=col>8</th><th scope=col>9</th><th scope=col>AUTUMN</th><th scope=col>SPRING</th><th scope=col>SUMMER</th><th scope=col>WINTER</th><th scope=col>HOLIDAY</th><th scope=col>NO_HOLIDAY</th></tr>\n",
       "\t<tr><th scope=col>&lt;dbl&gt;</th><th scope=col>&lt;dbl&gt;</th><th scope=col>&lt;dbl&gt;</th><th scope=col>&lt;dbl&gt;</th><th scope=col>&lt;dbl&gt;</th><th scope=col>&lt;dbl&gt;</th><th scope=col>&lt;dbl&gt;</th><th scope=col>&lt;dbl&gt;</th><th scope=col>&lt;dbl&gt;</th><th scope=col>&lt;dbl&gt;</th><th scope=col>⋯</th><th scope=col>&lt;dbl&gt;</th><th scope=col>&lt;dbl&gt;</th><th scope=col>&lt;dbl&gt;</th><th scope=col>&lt;dbl&gt;</th><th scope=col>&lt;dbl&gt;</th><th scope=col>&lt;dbl&gt;</th><th scope=col>&lt;dbl&gt;</th><th scope=col>&lt;dbl&gt;</th><th scope=col>&lt;dbl&gt;</th><th scope=col>&lt;dbl&gt;</th></tr>\n",
       "</thead>\n",
       "<tbody>\n",
       "\t<tr><td>254</td><td>0.2202797</td><td>0.3775510</td><td>0.29729730</td><td>1.0000000</td><td>0.2249135</td><td>0.000000000</td><td>0</td><td>0</td><td>1</td><td>⋯</td><td>0</td><td>0</td><td>0</td><td>0</td><td>0</td><td>0</td><td>0</td><td>1</td><td>0</td><td>1</td></tr>\n",
       "\t<tr><td>204</td><td>0.2150350</td><td>0.3877551</td><td>0.10810811</td><td>1.0000000</td><td>0.2249135</td><td>0.000000000</td><td>0</td><td>0</td><td>0</td><td>⋯</td><td>0</td><td>0</td><td>0</td><td>0</td><td>0</td><td>0</td><td>0</td><td>1</td><td>0</td><td>1</td></tr>\n",
       "\t<tr><td>173</td><td>0.2062937</td><td>0.3979592</td><td>0.13513514</td><td>1.0000000</td><td>0.2231834</td><td>0.000000000</td><td>0</td><td>0</td><td>0</td><td>⋯</td><td>0</td><td>0</td><td>0</td><td>0</td><td>0</td><td>0</td><td>0</td><td>1</td><td>0</td><td>1</td></tr>\n",
       "\t<tr><td>107</td><td>0.2027972</td><td>0.4081633</td><td>0.12162162</td><td>1.0000000</td><td>0.2249135</td><td>0.000000000</td><td>0</td><td>0</td><td>0</td><td>⋯</td><td>0</td><td>0</td><td>0</td><td>0</td><td>0</td><td>0</td><td>0</td><td>1</td><td>0</td><td>1</td></tr>\n",
       "\t<tr><td> 78</td><td>0.2062937</td><td>0.3673469</td><td>0.31081081</td><td>1.0000000</td><td>0.2076125</td><td>0.000000000</td><td>0</td><td>0</td><td>0</td><td>⋯</td><td>0</td><td>0</td><td>0</td><td>0</td><td>0</td><td>0</td><td>0</td><td>1</td><td>0</td><td>1</td></tr>\n",
       "\t<tr><td>100</td><td>0.1993007</td><td>0.3775510</td><td>0.20270270</td><td>1.0000000</td><td>0.2058824</td><td>0.000000000</td><td>0</td><td>0</td><td>0</td><td>⋯</td><td>0</td><td>0</td><td>0</td><td>0</td><td>0</td><td>0</td><td>0</td><td>1</td><td>0</td><td>1</td></tr>\n",
       "\t<tr><td>181</td><td>0.1958042</td><td>0.3571429</td><td>0.17567568</td><td>1.0000000</td><td>0.1920415</td><td>0.000000000</td><td>0</td><td>0</td><td>0</td><td>⋯</td><td>1</td><td>0</td><td>0</td><td>0</td><td>0</td><td>0</td><td>0</td><td>1</td><td>0</td><td>1</td></tr>\n",
       "\t<tr><td>460</td><td>0.1818182</td><td>0.3877551</td><td>0.12162162</td><td>1.0000000</td><td>0.1955017</td><td>0.000000000</td><td>0</td><td>0</td><td>0</td><td>⋯</td><td>0</td><td>1</td><td>0</td><td>0</td><td>0</td><td>0</td><td>0</td><td>1</td><td>0</td><td>1</td></tr>\n",
       "\t<tr><td>930</td><td>0.1783217</td><td>0.3775510</td><td>0.14864865</td><td>1.0000000</td><td>0.1868512</td><td>0.002840909</td><td>0</td><td>0</td><td>0</td><td>⋯</td><td>0</td><td>0</td><td>1</td><td>0</td><td>0</td><td>0</td><td>0</td><td>1</td><td>0</td><td>1</td></tr>\n",
       "\t<tr><td>490</td><td>0.1975524</td><td>0.2755102</td><td>0.06756757</td><td>0.9635073</td><td>0.1418685</td><td>0.065340909</td><td>0</td><td>0</td><td>0</td><td>⋯</td><td>0</td><td>0</td><td>0</td><td>1</td><td>0</td><td>0</td><td>0</td><td>1</td><td>0</td><td>1</td></tr>\n",
       "\t<tr><td>339</td><td>0.2500000</td><td>0.2448980</td><td>0.16216216</td><td>0.9979726</td><td>0.1626298</td><td>0.184659091</td><td>0</td><td>0</td><td>0</td><td>⋯</td><td>0</td><td>0</td><td>0</td><td>0</td><td>0</td><td>0</td><td>0</td><td>1</td><td>0</td><td>1</td></tr>\n",
       "\t<tr><td>360</td><td>0.3024476</td><td>0.2142857</td><td>0.17567568</td><td>0.9675621</td><td>0.1799308</td><td>0.267045455</td><td>0</td><td>0</td><td>0</td><td>⋯</td><td>0</td><td>0</td><td>0</td><td>0</td><td>0</td><td>0</td><td>0</td><td>1</td><td>0</td><td>1</td></tr>\n",
       "\t<tr><td>449</td><td>0.3409091</td><td>0.2346939</td><td>0.18918919</td><td>1.0000000</td><td>0.2318339</td><td>0.315340909</td><td>0</td><td>0</td><td>0</td><td>⋯</td><td>0</td><td>0</td><td>0</td><td>0</td><td>0</td><td>0</td><td>0</td><td>1</td><td>0</td><td>1</td></tr>\n",
       "\t<tr><td>451</td><td>0.3531469</td><td>0.2551020</td><td>0.21621622</td><td>1.0000000</td><td>0.2595156</td><td>0.329545455</td><td>0</td><td>0</td><td>0</td><td>⋯</td><td>0</td><td>0</td><td>0</td><td>0</td><td>0</td><td>0</td><td>0</td><td>1</td><td>0</td><td>1</td></tr>\n",
       "\t<tr><td>447</td><td>0.3636364</td><td>0.2653061</td><td>0.27027027</td><td>1.0000000</td><td>0.2768166</td><td>0.286931818</td><td>0</td><td>0</td><td>0</td><td>⋯</td><td>0</td><td>0</td><td>0</td><td>0</td><td>0</td><td>0</td><td>0</td><td>1</td><td>0</td><td>1</td></tr>\n",
       "\t<tr><td>463</td><td>0.3479021</td><td>0.3673469</td><td>0.43243243</td><td>1.0000000</td><td>0.3321799</td><td>0.153409091</td><td>0</td><td>0</td><td>0</td><td>⋯</td><td>0</td><td>0</td><td>0</td><td>0</td><td>0</td><td>0</td><td>0</td><td>1</td><td>0</td><td>1</td></tr>\n",
       "\t<tr><td>484</td><td>0.3321678</td><td>0.5510204</td><td>0.56756757</td><td>0.3882413</td><td>0.4083045</td><td>0.068181818</td><td>0</td><td>0</td><td>0</td><td>⋯</td><td>0</td><td>0</td><td>0</td><td>0</td><td>0</td><td>0</td><td>0</td><td>1</td><td>0</td><td>1</td></tr>\n",
       "\t<tr><td>555</td><td>0.3251748</td><td>0.5918367</td><td>0.21621622</td><td>1.0000000</td><td>0.4169550</td><td>0.022727273</td><td>0</td><td>0</td><td>0</td><td>⋯</td><td>0</td><td>0</td><td>0</td><td>0</td><td>0</td><td>0</td><td>0</td><td>1</td><td>0</td><td>1</td></tr>\n",
       "\t<tr><td>862</td><td>0.3216783</td><td>0.6734694</td><td>0.18918919</td><td>1.0000000</td><td>0.4429066</td><td>0.000000000</td><td>0</td><td>0</td><td>0</td><td>⋯</td><td>0</td><td>0</td><td>0</td><td>0</td><td>0</td><td>0</td><td>0</td><td>1</td><td>0</td><td>1</td></tr>\n",
       "\t<tr><td>600</td><td>0.3111888</td><td>0.7857143</td><td>0.22972973</td><td>1.0000000</td><td>0.4688581</td><td>0.000000000</td><td>0</td><td>0</td><td>0</td><td>⋯</td><td>0</td><td>0</td><td>0</td><td>0</td><td>0</td><td>0</td><td>0</td><td>1</td><td>0</td><td>1</td></tr>\n",
       "\t<tr><td>426</td><td>0.3059441</td><td>0.8061224</td><td>0.20270270</td><td>0.9559047</td><td>0.4688581</td><td>0.000000000</td><td>0</td><td>0</td><td>0</td><td>⋯</td><td>0</td><td>0</td><td>0</td><td>0</td><td>0</td><td>0</td><td>0</td><td>1</td><td>0</td><td>1</td></tr>\n",
       "\t<tr><td>405</td><td>0.2972028</td><td>0.8265306</td><td>0.10810811</td><td>0.8413583</td><td>0.4671280</td><td>0.000000000</td><td>0</td><td>0</td><td>0</td><td>⋯</td><td>0</td><td>0</td><td>0</td><td>0</td><td>0</td><td>0</td><td>0</td><td>1</td><td>0</td><td>1</td></tr>\n",
       "\t<tr><td>398</td><td>0.2954545</td><td>0.8469388</td><td>0.20270270</td><td>0.6857577</td><td>0.4705882</td><td>0.000000000</td><td>0</td><td>0</td><td>0</td><td>⋯</td><td>0</td><td>0</td><td>0</td><td>0</td><td>0</td><td>0</td><td>0</td><td>1</td><td>0</td><td>1</td></tr>\n",
       "\t<tr><td>323</td><td>0.2884615</td><td>0.8571429</td><td>0.13513514</td><td>0.6274709</td><td>0.4671280</td><td>0.000000000</td><td>0</td><td>0</td><td>0</td><td>⋯</td><td>0</td><td>0</td><td>0</td><td>0</td><td>0</td><td>0</td><td>0</td><td>1</td><td>0</td><td>1</td></tr>\n",
       "\t<tr><td>328</td><td>0.2797203</td><td>0.8877551</td><td>0.14864865</td><td>0.4901166</td><td>0.4671280</td><td>0.000000000</td><td>0</td><td>0</td><td>1</td><td>⋯</td><td>0</td><td>0</td><td>0</td><td>0</td><td>0</td><td>0</td><td>0</td><td>1</td><td>0</td><td>1</td></tr>\n",
       "\t<tr><td>308</td><td>0.2727273</td><td>0.8775510</td><td>0.08108108</td><td>0.4880892</td><td>0.4567474</td><td>0.000000000</td><td>0</td><td>0</td><td>0</td><td>⋯</td><td>0</td><td>0</td><td>0</td><td>0</td><td>0</td><td>0</td><td>0</td><td>1</td><td>0</td><td>1</td></tr>\n",
       "\t<tr><td>262</td><td>0.2604895</td><td>0.8775510</td><td>0.20270270</td><td>0.6229093</td><td>0.4446367</td><td>0.000000000</td><td>0</td><td>0</td><td>0</td><td>⋯</td><td>0</td><td>0</td><td>0</td><td>0</td><td>0</td><td>0</td><td>0</td><td>1</td><td>0</td><td>1</td></tr>\n",
       "\t<tr><td>167</td><td>0.2500000</td><td>0.8265306</td><td>0.29729730</td><td>0.6051698</td><td>0.4221453</td><td>0.000000000</td><td>0</td><td>0</td><td>0</td><td>⋯</td><td>0</td><td>0</td><td>0</td><td>0</td><td>0</td><td>0</td><td>0</td><td>1</td><td>0</td><td>1</td></tr>\n",
       "\t<tr><td> 89</td><td>0.2447552</td><td>0.8061224</td><td>0.27027027</td><td>0.5778003</td><td>0.4100346</td><td>0.000000000</td><td>0</td><td>0</td><td>0</td><td>⋯</td><td>0</td><td>0</td><td>0</td><td>0</td><td>0</td><td>0</td><td>0</td><td>1</td><td>0</td><td>1</td></tr>\n",
       "\t<tr><td> 79</td><td>0.2412587</td><td>0.8061224</td><td>0.20270270</td><td>0.5955398</td><td>0.4065744</td><td>0.000000000</td><td>0</td><td>0</td><td>0</td><td>⋯</td><td>0</td><td>0</td><td>0</td><td>0</td><td>0</td><td>0</td><td>0</td><td>1</td><td>0</td><td>1</td></tr>\n",
       "\t<tr><td>⋮</td><td>⋮</td><td>⋮</td><td>⋮</td><td>⋮</td><td>⋮</td><td>⋮</td><td>⋮</td><td>⋮</td><td>⋮</td><td>⋱</td><td>⋮</td><td>⋮</td><td>⋮</td><td>⋮</td><td>⋮</td><td>⋮</td><td>⋮</td><td>⋮</td><td>⋮</td><td>⋮</td></tr>\n",
       "\t<tr><td>1577</td><td>0.3111888</td><td>0.4693878</td><td>0.12162162</td><td>0.7800304</td><td>0.4463668</td><td>0.000000000</td><td>0</td><td>0</td><td>0</td><td>⋯</td><td>0</td><td>0</td><td>0</td><td>0</td><td>1</td><td>0</td><td>0</td><td>0</td><td>0</td><td>1</td></tr>\n",
       "\t<tr><td>1026</td><td>0.4020979</td><td>0.4897959</td><td>0.25675676</td><td>0.7921946</td><td>0.4446367</td><td>0.000000000</td><td>0</td><td>0</td><td>0</td><td>⋯</td><td>0</td><td>0</td><td>0</td><td>0</td><td>1</td><td>0</td><td>0</td><td>0</td><td>0</td><td>1</td></tr>\n",
       "\t<tr><td> 818</td><td>0.3828671</td><td>0.5510204</td><td>0.17567568</td><td>0.7131272</td><td>0.4550173</td><td>0.000000000</td><td>0</td><td>0</td><td>0</td><td>⋯</td><td>0</td><td>0</td><td>0</td><td>0</td><td>1</td><td>0</td><td>0</td><td>0</td><td>0</td><td>1</td></tr>\n",
       "\t<tr><td> 792</td><td>0.3776224</td><td>0.5612245</td><td>0.28378378</td><td>0.6102382</td><td>0.4532872</td><td>0.000000000</td><td>0</td><td>0</td><td>0</td><td>⋯</td><td>0</td><td>0</td><td>0</td><td>0</td><td>1</td><td>0</td><td>0</td><td>0</td><td>0</td><td>1</td></tr>\n",
       "\t<tr><td> 726</td><td>0.3636364</td><td>0.6020408</td><td>0.14864865</td><td>0.6036493</td><td>0.4567474</td><td>0.000000000</td><td>0</td><td>0</td><td>0</td><td>⋯</td><td>0</td><td>0</td><td>0</td><td>0</td><td>1</td><td>0</td><td>0</td><td>0</td><td>0</td><td>1</td></tr>\n",
       "\t<tr><td> 559</td><td>0.3566434</td><td>0.5714286</td><td>0.25675676</td><td>0.6928535</td><td>0.4377163</td><td>0.000000000</td><td>0</td><td>0</td><td>0</td><td>⋯</td><td>0</td><td>0</td><td>0</td><td>0</td><td>1</td><td>0</td><td>0</td><td>0</td><td>0</td><td>1</td></tr>\n",
       "\t<tr><td> 474</td><td>0.3426573</td><td>0.6326531</td><td>0.21621622</td><td>0.7014698</td><td>0.4480969</td><td>0.000000000</td><td>0</td><td>0</td><td>1</td><td>⋯</td><td>0</td><td>0</td><td>0</td><td>0</td><td>1</td><td>0</td><td>0</td><td>0</td><td>0</td><td>1</td></tr>\n",
       "\t<tr><td> 456</td><td>0.3339161</td><td>0.6428571</td><td>0.27027027</td><td>0.6852509</td><td>0.4446367</td><td>0.000000000</td><td>0</td><td>0</td><td>0</td><td>⋯</td><td>0</td><td>0</td><td>0</td><td>0</td><td>1</td><td>0</td><td>0</td><td>0</td><td>0</td><td>1</td></tr>\n",
       "\t<tr><td> 300</td><td>0.3216783</td><td>0.6734694</td><td>0.06756757</td><td>0.6796756</td><td>0.4429066</td><td>0.000000000</td><td>0</td><td>0</td><td>0</td><td>⋯</td><td>0</td><td>0</td><td>0</td><td>0</td><td>1</td><td>0</td><td>0</td><td>0</td><td>0</td><td>1</td></tr>\n",
       "\t<tr><td> 213</td><td>0.3094406</td><td>0.7040816</td><td>0.12162162</td><td>0.6644703</td><td>0.4411765</td><td>0.000000000</td><td>0</td><td>0</td><td>0</td><td>⋯</td><td>0</td><td>0</td><td>0</td><td>0</td><td>1</td><td>0</td><td>0</td><td>0</td><td>0</td><td>1</td></tr>\n",
       "\t<tr><td> 116</td><td>0.3024476</td><td>0.7244898</td><td>0.05405405</td><td>0.6680182</td><td>0.4411765</td><td>0.000000000</td><td>0</td><td>0</td><td>0</td><td>⋯</td><td>0</td><td>0</td><td>0</td><td>0</td><td>1</td><td>0</td><td>0</td><td>0</td><td>0</td><td>1</td></tr>\n",
       "\t<tr><td> 149</td><td>0.2989510</td><td>0.6734694</td><td>0.06756757</td><td>0.6634567</td><td>0.4221453</td><td>0.000000000</td><td>0</td><td>0</td><td>0</td><td>⋯</td><td>0</td><td>0</td><td>0</td><td>0</td><td>1</td><td>0</td><td>0</td><td>0</td><td>0</td><td>1</td></tr>\n",
       "\t<tr><td> 293</td><td>0.2972028</td><td>0.6938776</td><td>0.10810811</td><td>0.6563609</td><td>0.4273356</td><td>0.000000000</td><td>0</td><td>0</td><td>0</td><td>⋯</td><td>1</td><td>0</td><td>0</td><td>0</td><td>1</td><td>0</td><td>0</td><td>0</td><td>0</td><td>1</td></tr>\n",
       "\t<tr><td> 750</td><td>0.2902098</td><td>0.7142857</td><td>0.10810811</td><td>0.6710593</td><td>0.4273356</td><td>0.000000000</td><td>0</td><td>0</td><td>0</td><td>⋯</td><td>0</td><td>1</td><td>0</td><td>0</td><td>1</td><td>0</td><td>0</td><td>0</td><td>0</td><td>1</td></tr>\n",
       "\t<tr><td>1527</td><td>0.2849650</td><td>0.6938776</td><td>0.14864865</td><td>0.6381145</td><td>0.4152249</td><td>0.005681818</td><td>0</td><td>0</td><td>0</td><td>⋯</td><td>0</td><td>0</td><td>1</td><td>0</td><td>1</td><td>0</td><td>0</td><td>0</td><td>0</td><td>1</td></tr>\n",
       "\t<tr><td> 809</td><td>0.3041958</td><td>0.5816327</td><td>0.08108108</td><td>0.6300051</td><td>0.3944637</td><td>0.127840909</td><td>0</td><td>0</td><td>0</td><td>⋯</td><td>0</td><td>0</td><td>0</td><td>1</td><td>1</td><td>0</td><td>0</td><td>0</td><td>0</td><td>1</td></tr>\n",
       "\t<tr><td> 554</td><td>0.3444056</td><td>0.5204082</td><td>0.10810811</td><td>0.5078561</td><td>0.4065744</td><td>0.286931818</td><td>0</td><td>0</td><td>0</td><td>⋯</td><td>0</td><td>0</td><td>0</td><td>0</td><td>1</td><td>0</td><td>0</td><td>0</td><td>0</td><td>1</td></tr>\n",
       "\t<tr><td> 642</td><td>0.4038462</td><td>0.4387755</td><td>0.24324324</td><td>0.5828687</td><td>0.4221453</td><td>0.392045455</td><td>0</td><td>0</td><td>0</td><td>⋯</td><td>0</td><td>0</td><td>0</td><td>0</td><td>1</td><td>0</td><td>0</td><td>0</td><td>0</td><td>1</td></tr>\n",
       "\t<tr><td> 720</td><td>0.4265734</td><td>0.3571429</td><td>0.17567568</td><td>0.7004562</td><td>0.3944637</td><td>0.482954545</td><td>0</td><td>0</td><td>0</td><td>⋯</td><td>0</td><td>0</td><td>0</td><td>0</td><td>1</td><td>0</td><td>0</td><td>0</td><td>0</td><td>1</td></tr>\n",
       "\t<tr><td> 740</td><td>0.4353147</td><td>0.2448980</td><td>0.37837838</td><td>0.9178915</td><td>0.3200692</td><td>0.519886364</td><td>0</td><td>0</td><td>0</td><td>⋯</td><td>0</td><td>0</td><td>0</td><td>0</td><td>1</td><td>0</td><td>0</td><td>0</td><td>0</td><td>1</td></tr>\n",
       "\t<tr><td> 761</td><td>0.4475524</td><td>0.2040816</td><td>0.29729730</td><td>1.0000000</td><td>0.2906574</td><td>0.474431818</td><td>0</td><td>0</td><td>0</td><td>⋯</td><td>0</td><td>0</td><td>0</td><td>0</td><td>1</td><td>0</td><td>0</td><td>0</td><td>0</td><td>1</td></tr>\n",
       "\t<tr><td> 768</td><td>0.4335664</td><td>0.2040816</td><td>0.44594595</td><td>0.9969589</td><td>0.2802768</td><td>0.343750000</td><td>0</td><td>0</td><td>0</td><td>⋯</td><td>0</td><td>0</td><td>0</td><td>0</td><td>1</td><td>0</td><td>0</td><td>0</td><td>0</td><td>1</td></tr>\n",
       "\t<tr><td> 837</td><td>0.4370629</td><td>0.2346939</td><td>0.20270270</td><td>0.9721237</td><td>0.3114187</td><td>0.204545455</td><td>0</td><td>0</td><td>0</td><td>⋯</td><td>0</td><td>0</td><td>0</td><td>0</td><td>1</td><td>0</td><td>0</td><td>0</td><td>0</td><td>1</td></tr>\n",
       "\t<tr><td>1047</td><td>0.4160839</td><td>0.2959184</td><td>0.28378378</td><td>0.9376584</td><td>0.3442907</td><td>0.065340909</td><td>0</td><td>0</td><td>0</td><td>⋯</td><td>0</td><td>0</td><td>0</td><td>0</td><td>1</td><td>0</td><td>0</td><td>0</td><td>0</td><td>1</td></tr>\n",
       "\t<tr><td>1384</td><td>0.3933566</td><td>0.3469388</td><td>0.25675676</td><td>0.8281804</td><td>0.3598616</td><td>0.000000000</td><td>0</td><td>0</td><td>0</td><td>⋯</td><td>0</td><td>0</td><td>0</td><td>0</td><td>1</td><td>0</td><td>0</td><td>0</td><td>0</td><td>1</td></tr>\n",
       "\t<tr><td>1003</td><td>0.3846154</td><td>0.3469388</td><td>0.35135135</td><td>0.9462747</td><td>0.3512111</td><td>0.000000000</td><td>0</td><td>0</td><td>0</td><td>⋯</td><td>0</td><td>0</td><td>0</td><td>0</td><td>1</td><td>0</td><td>0</td><td>0</td><td>0</td><td>1</td></tr>\n",
       "\t<tr><td> 764</td><td>0.3706294</td><td>0.3775510</td><td>0.31081081</td><td>1.0000000</td><td>0.3581315</td><td>0.000000000</td><td>0</td><td>0</td><td>0</td><td>⋯</td><td>0</td><td>0</td><td>0</td><td>0</td><td>1</td><td>0</td><td>0</td><td>0</td><td>0</td><td>1</td></tr>\n",
       "\t<tr><td> 694</td><td>0.3566434</td><td>0.3979592</td><td>0.04054054</td><td>0.9837810</td><td>0.3581315</td><td>0.000000000</td><td>0</td><td>0</td><td>0</td><td>⋯</td><td>0</td><td>0</td><td>0</td><td>0</td><td>1</td><td>0</td><td>0</td><td>0</td><td>0</td><td>1</td></tr>\n",
       "\t<tr><td> 712</td><td>0.3479021</td><td>0.4183673</td><td>0.13513514</td><td>0.9285352</td><td>0.3598616</td><td>0.000000000</td><td>0</td><td>0</td><td>0</td><td>⋯</td><td>0</td><td>0</td><td>0</td><td>0</td><td>1</td><td>0</td><td>0</td><td>0</td><td>0</td><td>1</td></tr>\n",
       "\t<tr><td> 584</td><td>0.3444056</td><td>0.4387755</td><td>0.17567568</td><td>0.9538773</td><td>0.3685121</td><td>0.000000000</td><td>0</td><td>0</td><td>0</td><td>⋯</td><td>0</td><td>0</td><td>0</td><td>0</td><td>1</td><td>0</td><td>0</td><td>0</td><td>0</td><td>1</td></tr>\n",
       "</tbody>\n",
       "</table>\n"
      ],
      "text/latex": [
       "A spec\\_tbl\\_df: 8465 × 39\n",
       "\\begin{tabular}{lllllllllllllllllllll}\n",
       " RENTED\\_BIKE\\_COUNT & TEMPERATURE & HUMIDITY & WIND\\_SPEED & VISIBILITY & DEW\\_POINT\\_TEMPERATURE & SOLAR\\_RADIATION & RAINFALL & SNOWFALL & 0 & ⋯ & 6 & 7 & 8 & 9 & AUTUMN & SPRING & SUMMER & WINTER & HOLIDAY & NO\\_HOLIDAY\\\\\n",
       " <dbl> & <dbl> & <dbl> & <dbl> & <dbl> & <dbl> & <dbl> & <dbl> & <dbl> & <dbl> & ⋯ & <dbl> & <dbl> & <dbl> & <dbl> & <dbl> & <dbl> & <dbl> & <dbl> & <dbl> & <dbl>\\\\\n",
       "\\hline\n",
       "\t 254 & 0.2202797 & 0.3775510 & 0.29729730 & 1.0000000 & 0.2249135 & 0.000000000 & 0 & 0 & 1 & ⋯ & 0 & 0 & 0 & 0 & 0 & 0 & 0 & 1 & 0 & 1\\\\\n",
       "\t 204 & 0.2150350 & 0.3877551 & 0.10810811 & 1.0000000 & 0.2249135 & 0.000000000 & 0 & 0 & 0 & ⋯ & 0 & 0 & 0 & 0 & 0 & 0 & 0 & 1 & 0 & 1\\\\\n",
       "\t 173 & 0.2062937 & 0.3979592 & 0.13513514 & 1.0000000 & 0.2231834 & 0.000000000 & 0 & 0 & 0 & ⋯ & 0 & 0 & 0 & 0 & 0 & 0 & 0 & 1 & 0 & 1\\\\\n",
       "\t 107 & 0.2027972 & 0.4081633 & 0.12162162 & 1.0000000 & 0.2249135 & 0.000000000 & 0 & 0 & 0 & ⋯ & 0 & 0 & 0 & 0 & 0 & 0 & 0 & 1 & 0 & 1\\\\\n",
       "\t  78 & 0.2062937 & 0.3673469 & 0.31081081 & 1.0000000 & 0.2076125 & 0.000000000 & 0 & 0 & 0 & ⋯ & 0 & 0 & 0 & 0 & 0 & 0 & 0 & 1 & 0 & 1\\\\\n",
       "\t 100 & 0.1993007 & 0.3775510 & 0.20270270 & 1.0000000 & 0.2058824 & 0.000000000 & 0 & 0 & 0 & ⋯ & 0 & 0 & 0 & 0 & 0 & 0 & 0 & 1 & 0 & 1\\\\\n",
       "\t 181 & 0.1958042 & 0.3571429 & 0.17567568 & 1.0000000 & 0.1920415 & 0.000000000 & 0 & 0 & 0 & ⋯ & 1 & 0 & 0 & 0 & 0 & 0 & 0 & 1 & 0 & 1\\\\\n",
       "\t 460 & 0.1818182 & 0.3877551 & 0.12162162 & 1.0000000 & 0.1955017 & 0.000000000 & 0 & 0 & 0 & ⋯ & 0 & 1 & 0 & 0 & 0 & 0 & 0 & 1 & 0 & 1\\\\\n",
       "\t 930 & 0.1783217 & 0.3775510 & 0.14864865 & 1.0000000 & 0.1868512 & 0.002840909 & 0 & 0 & 0 & ⋯ & 0 & 0 & 1 & 0 & 0 & 0 & 0 & 1 & 0 & 1\\\\\n",
       "\t 490 & 0.1975524 & 0.2755102 & 0.06756757 & 0.9635073 & 0.1418685 & 0.065340909 & 0 & 0 & 0 & ⋯ & 0 & 0 & 0 & 1 & 0 & 0 & 0 & 1 & 0 & 1\\\\\n",
       "\t 339 & 0.2500000 & 0.2448980 & 0.16216216 & 0.9979726 & 0.1626298 & 0.184659091 & 0 & 0 & 0 & ⋯ & 0 & 0 & 0 & 0 & 0 & 0 & 0 & 1 & 0 & 1\\\\\n",
       "\t 360 & 0.3024476 & 0.2142857 & 0.17567568 & 0.9675621 & 0.1799308 & 0.267045455 & 0 & 0 & 0 & ⋯ & 0 & 0 & 0 & 0 & 0 & 0 & 0 & 1 & 0 & 1\\\\\n",
       "\t 449 & 0.3409091 & 0.2346939 & 0.18918919 & 1.0000000 & 0.2318339 & 0.315340909 & 0 & 0 & 0 & ⋯ & 0 & 0 & 0 & 0 & 0 & 0 & 0 & 1 & 0 & 1\\\\\n",
       "\t 451 & 0.3531469 & 0.2551020 & 0.21621622 & 1.0000000 & 0.2595156 & 0.329545455 & 0 & 0 & 0 & ⋯ & 0 & 0 & 0 & 0 & 0 & 0 & 0 & 1 & 0 & 1\\\\\n",
       "\t 447 & 0.3636364 & 0.2653061 & 0.27027027 & 1.0000000 & 0.2768166 & 0.286931818 & 0 & 0 & 0 & ⋯ & 0 & 0 & 0 & 0 & 0 & 0 & 0 & 1 & 0 & 1\\\\\n",
       "\t 463 & 0.3479021 & 0.3673469 & 0.43243243 & 1.0000000 & 0.3321799 & 0.153409091 & 0 & 0 & 0 & ⋯ & 0 & 0 & 0 & 0 & 0 & 0 & 0 & 1 & 0 & 1\\\\\n",
       "\t 484 & 0.3321678 & 0.5510204 & 0.56756757 & 0.3882413 & 0.4083045 & 0.068181818 & 0 & 0 & 0 & ⋯ & 0 & 0 & 0 & 0 & 0 & 0 & 0 & 1 & 0 & 1\\\\\n",
       "\t 555 & 0.3251748 & 0.5918367 & 0.21621622 & 1.0000000 & 0.4169550 & 0.022727273 & 0 & 0 & 0 & ⋯ & 0 & 0 & 0 & 0 & 0 & 0 & 0 & 1 & 0 & 1\\\\\n",
       "\t 862 & 0.3216783 & 0.6734694 & 0.18918919 & 1.0000000 & 0.4429066 & 0.000000000 & 0 & 0 & 0 & ⋯ & 0 & 0 & 0 & 0 & 0 & 0 & 0 & 1 & 0 & 1\\\\\n",
       "\t 600 & 0.3111888 & 0.7857143 & 0.22972973 & 1.0000000 & 0.4688581 & 0.000000000 & 0 & 0 & 0 & ⋯ & 0 & 0 & 0 & 0 & 0 & 0 & 0 & 1 & 0 & 1\\\\\n",
       "\t 426 & 0.3059441 & 0.8061224 & 0.20270270 & 0.9559047 & 0.4688581 & 0.000000000 & 0 & 0 & 0 & ⋯ & 0 & 0 & 0 & 0 & 0 & 0 & 0 & 1 & 0 & 1\\\\\n",
       "\t 405 & 0.2972028 & 0.8265306 & 0.10810811 & 0.8413583 & 0.4671280 & 0.000000000 & 0 & 0 & 0 & ⋯ & 0 & 0 & 0 & 0 & 0 & 0 & 0 & 1 & 0 & 1\\\\\n",
       "\t 398 & 0.2954545 & 0.8469388 & 0.20270270 & 0.6857577 & 0.4705882 & 0.000000000 & 0 & 0 & 0 & ⋯ & 0 & 0 & 0 & 0 & 0 & 0 & 0 & 1 & 0 & 1\\\\\n",
       "\t 323 & 0.2884615 & 0.8571429 & 0.13513514 & 0.6274709 & 0.4671280 & 0.000000000 & 0 & 0 & 0 & ⋯ & 0 & 0 & 0 & 0 & 0 & 0 & 0 & 1 & 0 & 1\\\\\n",
       "\t 328 & 0.2797203 & 0.8877551 & 0.14864865 & 0.4901166 & 0.4671280 & 0.000000000 & 0 & 0 & 1 & ⋯ & 0 & 0 & 0 & 0 & 0 & 0 & 0 & 1 & 0 & 1\\\\\n",
       "\t 308 & 0.2727273 & 0.8775510 & 0.08108108 & 0.4880892 & 0.4567474 & 0.000000000 & 0 & 0 & 0 & ⋯ & 0 & 0 & 0 & 0 & 0 & 0 & 0 & 1 & 0 & 1\\\\\n",
       "\t 262 & 0.2604895 & 0.8775510 & 0.20270270 & 0.6229093 & 0.4446367 & 0.000000000 & 0 & 0 & 0 & ⋯ & 0 & 0 & 0 & 0 & 0 & 0 & 0 & 1 & 0 & 1\\\\\n",
       "\t 167 & 0.2500000 & 0.8265306 & 0.29729730 & 0.6051698 & 0.4221453 & 0.000000000 & 0 & 0 & 0 & ⋯ & 0 & 0 & 0 & 0 & 0 & 0 & 0 & 1 & 0 & 1\\\\\n",
       "\t  89 & 0.2447552 & 0.8061224 & 0.27027027 & 0.5778003 & 0.4100346 & 0.000000000 & 0 & 0 & 0 & ⋯ & 0 & 0 & 0 & 0 & 0 & 0 & 0 & 1 & 0 & 1\\\\\n",
       "\t  79 & 0.2412587 & 0.8061224 & 0.20270270 & 0.5955398 & 0.4065744 & 0.000000000 & 0 & 0 & 0 & ⋯ & 0 & 0 & 0 & 0 & 0 & 0 & 0 & 1 & 0 & 1\\\\\n",
       "\t ⋮ & ⋮ & ⋮ & ⋮ & ⋮ & ⋮ & ⋮ & ⋮ & ⋮ & ⋮ & ⋱ & ⋮ & ⋮ & ⋮ & ⋮ & ⋮ & ⋮ & ⋮ & ⋮ & ⋮ & ⋮\\\\\n",
       "\t 1577 & 0.3111888 & 0.4693878 & 0.12162162 & 0.7800304 & 0.4463668 & 0.000000000 & 0 & 0 & 0 & ⋯ & 0 & 0 & 0 & 0 & 1 & 0 & 0 & 0 & 0 & 1\\\\\n",
       "\t 1026 & 0.4020979 & 0.4897959 & 0.25675676 & 0.7921946 & 0.4446367 & 0.000000000 & 0 & 0 & 0 & ⋯ & 0 & 0 & 0 & 0 & 1 & 0 & 0 & 0 & 0 & 1\\\\\n",
       "\t  818 & 0.3828671 & 0.5510204 & 0.17567568 & 0.7131272 & 0.4550173 & 0.000000000 & 0 & 0 & 0 & ⋯ & 0 & 0 & 0 & 0 & 1 & 0 & 0 & 0 & 0 & 1\\\\\n",
       "\t  792 & 0.3776224 & 0.5612245 & 0.28378378 & 0.6102382 & 0.4532872 & 0.000000000 & 0 & 0 & 0 & ⋯ & 0 & 0 & 0 & 0 & 1 & 0 & 0 & 0 & 0 & 1\\\\\n",
       "\t  726 & 0.3636364 & 0.6020408 & 0.14864865 & 0.6036493 & 0.4567474 & 0.000000000 & 0 & 0 & 0 & ⋯ & 0 & 0 & 0 & 0 & 1 & 0 & 0 & 0 & 0 & 1\\\\\n",
       "\t  559 & 0.3566434 & 0.5714286 & 0.25675676 & 0.6928535 & 0.4377163 & 0.000000000 & 0 & 0 & 0 & ⋯ & 0 & 0 & 0 & 0 & 1 & 0 & 0 & 0 & 0 & 1\\\\\n",
       "\t  474 & 0.3426573 & 0.6326531 & 0.21621622 & 0.7014698 & 0.4480969 & 0.000000000 & 0 & 0 & 1 & ⋯ & 0 & 0 & 0 & 0 & 1 & 0 & 0 & 0 & 0 & 1\\\\\n",
       "\t  456 & 0.3339161 & 0.6428571 & 0.27027027 & 0.6852509 & 0.4446367 & 0.000000000 & 0 & 0 & 0 & ⋯ & 0 & 0 & 0 & 0 & 1 & 0 & 0 & 0 & 0 & 1\\\\\n",
       "\t  300 & 0.3216783 & 0.6734694 & 0.06756757 & 0.6796756 & 0.4429066 & 0.000000000 & 0 & 0 & 0 & ⋯ & 0 & 0 & 0 & 0 & 1 & 0 & 0 & 0 & 0 & 1\\\\\n",
       "\t  213 & 0.3094406 & 0.7040816 & 0.12162162 & 0.6644703 & 0.4411765 & 0.000000000 & 0 & 0 & 0 & ⋯ & 0 & 0 & 0 & 0 & 1 & 0 & 0 & 0 & 0 & 1\\\\\n",
       "\t  116 & 0.3024476 & 0.7244898 & 0.05405405 & 0.6680182 & 0.4411765 & 0.000000000 & 0 & 0 & 0 & ⋯ & 0 & 0 & 0 & 0 & 1 & 0 & 0 & 0 & 0 & 1\\\\\n",
       "\t  149 & 0.2989510 & 0.6734694 & 0.06756757 & 0.6634567 & 0.4221453 & 0.000000000 & 0 & 0 & 0 & ⋯ & 0 & 0 & 0 & 0 & 1 & 0 & 0 & 0 & 0 & 1\\\\\n",
       "\t  293 & 0.2972028 & 0.6938776 & 0.10810811 & 0.6563609 & 0.4273356 & 0.000000000 & 0 & 0 & 0 & ⋯ & 1 & 0 & 0 & 0 & 1 & 0 & 0 & 0 & 0 & 1\\\\\n",
       "\t  750 & 0.2902098 & 0.7142857 & 0.10810811 & 0.6710593 & 0.4273356 & 0.000000000 & 0 & 0 & 0 & ⋯ & 0 & 1 & 0 & 0 & 1 & 0 & 0 & 0 & 0 & 1\\\\\n",
       "\t 1527 & 0.2849650 & 0.6938776 & 0.14864865 & 0.6381145 & 0.4152249 & 0.005681818 & 0 & 0 & 0 & ⋯ & 0 & 0 & 1 & 0 & 1 & 0 & 0 & 0 & 0 & 1\\\\\n",
       "\t  809 & 0.3041958 & 0.5816327 & 0.08108108 & 0.6300051 & 0.3944637 & 0.127840909 & 0 & 0 & 0 & ⋯ & 0 & 0 & 0 & 1 & 1 & 0 & 0 & 0 & 0 & 1\\\\\n",
       "\t  554 & 0.3444056 & 0.5204082 & 0.10810811 & 0.5078561 & 0.4065744 & 0.286931818 & 0 & 0 & 0 & ⋯ & 0 & 0 & 0 & 0 & 1 & 0 & 0 & 0 & 0 & 1\\\\\n",
       "\t  642 & 0.4038462 & 0.4387755 & 0.24324324 & 0.5828687 & 0.4221453 & 0.392045455 & 0 & 0 & 0 & ⋯ & 0 & 0 & 0 & 0 & 1 & 0 & 0 & 0 & 0 & 1\\\\\n",
       "\t  720 & 0.4265734 & 0.3571429 & 0.17567568 & 0.7004562 & 0.3944637 & 0.482954545 & 0 & 0 & 0 & ⋯ & 0 & 0 & 0 & 0 & 1 & 0 & 0 & 0 & 0 & 1\\\\\n",
       "\t  740 & 0.4353147 & 0.2448980 & 0.37837838 & 0.9178915 & 0.3200692 & 0.519886364 & 0 & 0 & 0 & ⋯ & 0 & 0 & 0 & 0 & 1 & 0 & 0 & 0 & 0 & 1\\\\\n",
       "\t  761 & 0.4475524 & 0.2040816 & 0.29729730 & 1.0000000 & 0.2906574 & 0.474431818 & 0 & 0 & 0 & ⋯ & 0 & 0 & 0 & 0 & 1 & 0 & 0 & 0 & 0 & 1\\\\\n",
       "\t  768 & 0.4335664 & 0.2040816 & 0.44594595 & 0.9969589 & 0.2802768 & 0.343750000 & 0 & 0 & 0 & ⋯ & 0 & 0 & 0 & 0 & 1 & 0 & 0 & 0 & 0 & 1\\\\\n",
       "\t  837 & 0.4370629 & 0.2346939 & 0.20270270 & 0.9721237 & 0.3114187 & 0.204545455 & 0 & 0 & 0 & ⋯ & 0 & 0 & 0 & 0 & 1 & 0 & 0 & 0 & 0 & 1\\\\\n",
       "\t 1047 & 0.4160839 & 0.2959184 & 0.28378378 & 0.9376584 & 0.3442907 & 0.065340909 & 0 & 0 & 0 & ⋯ & 0 & 0 & 0 & 0 & 1 & 0 & 0 & 0 & 0 & 1\\\\\n",
       "\t 1384 & 0.3933566 & 0.3469388 & 0.25675676 & 0.8281804 & 0.3598616 & 0.000000000 & 0 & 0 & 0 & ⋯ & 0 & 0 & 0 & 0 & 1 & 0 & 0 & 0 & 0 & 1\\\\\n",
       "\t 1003 & 0.3846154 & 0.3469388 & 0.35135135 & 0.9462747 & 0.3512111 & 0.000000000 & 0 & 0 & 0 & ⋯ & 0 & 0 & 0 & 0 & 1 & 0 & 0 & 0 & 0 & 1\\\\\n",
       "\t  764 & 0.3706294 & 0.3775510 & 0.31081081 & 1.0000000 & 0.3581315 & 0.000000000 & 0 & 0 & 0 & ⋯ & 0 & 0 & 0 & 0 & 1 & 0 & 0 & 0 & 0 & 1\\\\\n",
       "\t  694 & 0.3566434 & 0.3979592 & 0.04054054 & 0.9837810 & 0.3581315 & 0.000000000 & 0 & 0 & 0 & ⋯ & 0 & 0 & 0 & 0 & 1 & 0 & 0 & 0 & 0 & 1\\\\\n",
       "\t  712 & 0.3479021 & 0.4183673 & 0.13513514 & 0.9285352 & 0.3598616 & 0.000000000 & 0 & 0 & 0 & ⋯ & 0 & 0 & 0 & 0 & 1 & 0 & 0 & 0 & 0 & 1\\\\\n",
       "\t  584 & 0.3444056 & 0.4387755 & 0.17567568 & 0.9538773 & 0.3685121 & 0.000000000 & 0 & 0 & 0 & ⋯ & 0 & 0 & 0 & 0 & 1 & 0 & 0 & 0 & 0 & 1\\\\\n",
       "\\end{tabular}\n"
      ],
      "text/markdown": [
       "\n",
       "A spec_tbl_df: 8465 × 39\n",
       "\n",
       "| RENTED_BIKE_COUNT &lt;dbl&gt; | TEMPERATURE &lt;dbl&gt; | HUMIDITY &lt;dbl&gt; | WIND_SPEED &lt;dbl&gt; | VISIBILITY &lt;dbl&gt; | DEW_POINT_TEMPERATURE &lt;dbl&gt; | SOLAR_RADIATION &lt;dbl&gt; | RAINFALL &lt;dbl&gt; | SNOWFALL &lt;dbl&gt; | 0 &lt;dbl&gt; | ⋯ ⋯ | 6 &lt;dbl&gt; | 7 &lt;dbl&gt; | 8 &lt;dbl&gt; | 9 &lt;dbl&gt; | AUTUMN &lt;dbl&gt; | SPRING &lt;dbl&gt; | SUMMER &lt;dbl&gt; | WINTER &lt;dbl&gt; | HOLIDAY &lt;dbl&gt; | NO_HOLIDAY &lt;dbl&gt; |\n",
       "|---|---|---|---|---|---|---|---|---|---|---|---|---|---|---|---|---|---|---|---|---|\n",
       "| 254 | 0.2202797 | 0.3775510 | 0.29729730 | 1.0000000 | 0.2249135 | 0.000000000 | 0 | 0 | 1 | ⋯ | 0 | 0 | 0 | 0 | 0 | 0 | 0 | 1 | 0 | 1 |\n",
       "| 204 | 0.2150350 | 0.3877551 | 0.10810811 | 1.0000000 | 0.2249135 | 0.000000000 | 0 | 0 | 0 | ⋯ | 0 | 0 | 0 | 0 | 0 | 0 | 0 | 1 | 0 | 1 |\n",
       "| 173 | 0.2062937 | 0.3979592 | 0.13513514 | 1.0000000 | 0.2231834 | 0.000000000 | 0 | 0 | 0 | ⋯ | 0 | 0 | 0 | 0 | 0 | 0 | 0 | 1 | 0 | 1 |\n",
       "| 107 | 0.2027972 | 0.4081633 | 0.12162162 | 1.0000000 | 0.2249135 | 0.000000000 | 0 | 0 | 0 | ⋯ | 0 | 0 | 0 | 0 | 0 | 0 | 0 | 1 | 0 | 1 |\n",
       "|  78 | 0.2062937 | 0.3673469 | 0.31081081 | 1.0000000 | 0.2076125 | 0.000000000 | 0 | 0 | 0 | ⋯ | 0 | 0 | 0 | 0 | 0 | 0 | 0 | 1 | 0 | 1 |\n",
       "| 100 | 0.1993007 | 0.3775510 | 0.20270270 | 1.0000000 | 0.2058824 | 0.000000000 | 0 | 0 | 0 | ⋯ | 0 | 0 | 0 | 0 | 0 | 0 | 0 | 1 | 0 | 1 |\n",
       "| 181 | 0.1958042 | 0.3571429 | 0.17567568 | 1.0000000 | 0.1920415 | 0.000000000 | 0 | 0 | 0 | ⋯ | 1 | 0 | 0 | 0 | 0 | 0 | 0 | 1 | 0 | 1 |\n",
       "| 460 | 0.1818182 | 0.3877551 | 0.12162162 | 1.0000000 | 0.1955017 | 0.000000000 | 0 | 0 | 0 | ⋯ | 0 | 1 | 0 | 0 | 0 | 0 | 0 | 1 | 0 | 1 |\n",
       "| 930 | 0.1783217 | 0.3775510 | 0.14864865 | 1.0000000 | 0.1868512 | 0.002840909 | 0 | 0 | 0 | ⋯ | 0 | 0 | 1 | 0 | 0 | 0 | 0 | 1 | 0 | 1 |\n",
       "| 490 | 0.1975524 | 0.2755102 | 0.06756757 | 0.9635073 | 0.1418685 | 0.065340909 | 0 | 0 | 0 | ⋯ | 0 | 0 | 0 | 1 | 0 | 0 | 0 | 1 | 0 | 1 |\n",
       "| 339 | 0.2500000 | 0.2448980 | 0.16216216 | 0.9979726 | 0.1626298 | 0.184659091 | 0 | 0 | 0 | ⋯ | 0 | 0 | 0 | 0 | 0 | 0 | 0 | 1 | 0 | 1 |\n",
       "| 360 | 0.3024476 | 0.2142857 | 0.17567568 | 0.9675621 | 0.1799308 | 0.267045455 | 0 | 0 | 0 | ⋯ | 0 | 0 | 0 | 0 | 0 | 0 | 0 | 1 | 0 | 1 |\n",
       "| 449 | 0.3409091 | 0.2346939 | 0.18918919 | 1.0000000 | 0.2318339 | 0.315340909 | 0 | 0 | 0 | ⋯ | 0 | 0 | 0 | 0 | 0 | 0 | 0 | 1 | 0 | 1 |\n",
       "| 451 | 0.3531469 | 0.2551020 | 0.21621622 | 1.0000000 | 0.2595156 | 0.329545455 | 0 | 0 | 0 | ⋯ | 0 | 0 | 0 | 0 | 0 | 0 | 0 | 1 | 0 | 1 |\n",
       "| 447 | 0.3636364 | 0.2653061 | 0.27027027 | 1.0000000 | 0.2768166 | 0.286931818 | 0 | 0 | 0 | ⋯ | 0 | 0 | 0 | 0 | 0 | 0 | 0 | 1 | 0 | 1 |\n",
       "| 463 | 0.3479021 | 0.3673469 | 0.43243243 | 1.0000000 | 0.3321799 | 0.153409091 | 0 | 0 | 0 | ⋯ | 0 | 0 | 0 | 0 | 0 | 0 | 0 | 1 | 0 | 1 |\n",
       "| 484 | 0.3321678 | 0.5510204 | 0.56756757 | 0.3882413 | 0.4083045 | 0.068181818 | 0 | 0 | 0 | ⋯ | 0 | 0 | 0 | 0 | 0 | 0 | 0 | 1 | 0 | 1 |\n",
       "| 555 | 0.3251748 | 0.5918367 | 0.21621622 | 1.0000000 | 0.4169550 | 0.022727273 | 0 | 0 | 0 | ⋯ | 0 | 0 | 0 | 0 | 0 | 0 | 0 | 1 | 0 | 1 |\n",
       "| 862 | 0.3216783 | 0.6734694 | 0.18918919 | 1.0000000 | 0.4429066 | 0.000000000 | 0 | 0 | 0 | ⋯ | 0 | 0 | 0 | 0 | 0 | 0 | 0 | 1 | 0 | 1 |\n",
       "| 600 | 0.3111888 | 0.7857143 | 0.22972973 | 1.0000000 | 0.4688581 | 0.000000000 | 0 | 0 | 0 | ⋯ | 0 | 0 | 0 | 0 | 0 | 0 | 0 | 1 | 0 | 1 |\n",
       "| 426 | 0.3059441 | 0.8061224 | 0.20270270 | 0.9559047 | 0.4688581 | 0.000000000 | 0 | 0 | 0 | ⋯ | 0 | 0 | 0 | 0 | 0 | 0 | 0 | 1 | 0 | 1 |\n",
       "| 405 | 0.2972028 | 0.8265306 | 0.10810811 | 0.8413583 | 0.4671280 | 0.000000000 | 0 | 0 | 0 | ⋯ | 0 | 0 | 0 | 0 | 0 | 0 | 0 | 1 | 0 | 1 |\n",
       "| 398 | 0.2954545 | 0.8469388 | 0.20270270 | 0.6857577 | 0.4705882 | 0.000000000 | 0 | 0 | 0 | ⋯ | 0 | 0 | 0 | 0 | 0 | 0 | 0 | 1 | 0 | 1 |\n",
       "| 323 | 0.2884615 | 0.8571429 | 0.13513514 | 0.6274709 | 0.4671280 | 0.000000000 | 0 | 0 | 0 | ⋯ | 0 | 0 | 0 | 0 | 0 | 0 | 0 | 1 | 0 | 1 |\n",
       "| 328 | 0.2797203 | 0.8877551 | 0.14864865 | 0.4901166 | 0.4671280 | 0.000000000 | 0 | 0 | 1 | ⋯ | 0 | 0 | 0 | 0 | 0 | 0 | 0 | 1 | 0 | 1 |\n",
       "| 308 | 0.2727273 | 0.8775510 | 0.08108108 | 0.4880892 | 0.4567474 | 0.000000000 | 0 | 0 | 0 | ⋯ | 0 | 0 | 0 | 0 | 0 | 0 | 0 | 1 | 0 | 1 |\n",
       "| 262 | 0.2604895 | 0.8775510 | 0.20270270 | 0.6229093 | 0.4446367 | 0.000000000 | 0 | 0 | 0 | ⋯ | 0 | 0 | 0 | 0 | 0 | 0 | 0 | 1 | 0 | 1 |\n",
       "| 167 | 0.2500000 | 0.8265306 | 0.29729730 | 0.6051698 | 0.4221453 | 0.000000000 | 0 | 0 | 0 | ⋯ | 0 | 0 | 0 | 0 | 0 | 0 | 0 | 1 | 0 | 1 |\n",
       "|  89 | 0.2447552 | 0.8061224 | 0.27027027 | 0.5778003 | 0.4100346 | 0.000000000 | 0 | 0 | 0 | ⋯ | 0 | 0 | 0 | 0 | 0 | 0 | 0 | 1 | 0 | 1 |\n",
       "|  79 | 0.2412587 | 0.8061224 | 0.20270270 | 0.5955398 | 0.4065744 | 0.000000000 | 0 | 0 | 0 | ⋯ | 0 | 0 | 0 | 0 | 0 | 0 | 0 | 1 | 0 | 1 |\n",
       "| ⋮ | ⋮ | ⋮ | ⋮ | ⋮ | ⋮ | ⋮ | ⋮ | ⋮ | ⋮ | ⋱ | ⋮ | ⋮ | ⋮ | ⋮ | ⋮ | ⋮ | ⋮ | ⋮ | ⋮ | ⋮ |\n",
       "| 1577 | 0.3111888 | 0.4693878 | 0.12162162 | 0.7800304 | 0.4463668 | 0.000000000 | 0 | 0 | 0 | ⋯ | 0 | 0 | 0 | 0 | 1 | 0 | 0 | 0 | 0 | 1 |\n",
       "| 1026 | 0.4020979 | 0.4897959 | 0.25675676 | 0.7921946 | 0.4446367 | 0.000000000 | 0 | 0 | 0 | ⋯ | 0 | 0 | 0 | 0 | 1 | 0 | 0 | 0 | 0 | 1 |\n",
       "|  818 | 0.3828671 | 0.5510204 | 0.17567568 | 0.7131272 | 0.4550173 | 0.000000000 | 0 | 0 | 0 | ⋯ | 0 | 0 | 0 | 0 | 1 | 0 | 0 | 0 | 0 | 1 |\n",
       "|  792 | 0.3776224 | 0.5612245 | 0.28378378 | 0.6102382 | 0.4532872 | 0.000000000 | 0 | 0 | 0 | ⋯ | 0 | 0 | 0 | 0 | 1 | 0 | 0 | 0 | 0 | 1 |\n",
       "|  726 | 0.3636364 | 0.6020408 | 0.14864865 | 0.6036493 | 0.4567474 | 0.000000000 | 0 | 0 | 0 | ⋯ | 0 | 0 | 0 | 0 | 1 | 0 | 0 | 0 | 0 | 1 |\n",
       "|  559 | 0.3566434 | 0.5714286 | 0.25675676 | 0.6928535 | 0.4377163 | 0.000000000 | 0 | 0 | 0 | ⋯ | 0 | 0 | 0 | 0 | 1 | 0 | 0 | 0 | 0 | 1 |\n",
       "|  474 | 0.3426573 | 0.6326531 | 0.21621622 | 0.7014698 | 0.4480969 | 0.000000000 | 0 | 0 | 1 | ⋯ | 0 | 0 | 0 | 0 | 1 | 0 | 0 | 0 | 0 | 1 |\n",
       "|  456 | 0.3339161 | 0.6428571 | 0.27027027 | 0.6852509 | 0.4446367 | 0.000000000 | 0 | 0 | 0 | ⋯ | 0 | 0 | 0 | 0 | 1 | 0 | 0 | 0 | 0 | 1 |\n",
       "|  300 | 0.3216783 | 0.6734694 | 0.06756757 | 0.6796756 | 0.4429066 | 0.000000000 | 0 | 0 | 0 | ⋯ | 0 | 0 | 0 | 0 | 1 | 0 | 0 | 0 | 0 | 1 |\n",
       "|  213 | 0.3094406 | 0.7040816 | 0.12162162 | 0.6644703 | 0.4411765 | 0.000000000 | 0 | 0 | 0 | ⋯ | 0 | 0 | 0 | 0 | 1 | 0 | 0 | 0 | 0 | 1 |\n",
       "|  116 | 0.3024476 | 0.7244898 | 0.05405405 | 0.6680182 | 0.4411765 | 0.000000000 | 0 | 0 | 0 | ⋯ | 0 | 0 | 0 | 0 | 1 | 0 | 0 | 0 | 0 | 1 |\n",
       "|  149 | 0.2989510 | 0.6734694 | 0.06756757 | 0.6634567 | 0.4221453 | 0.000000000 | 0 | 0 | 0 | ⋯ | 0 | 0 | 0 | 0 | 1 | 0 | 0 | 0 | 0 | 1 |\n",
       "|  293 | 0.2972028 | 0.6938776 | 0.10810811 | 0.6563609 | 0.4273356 | 0.000000000 | 0 | 0 | 0 | ⋯ | 1 | 0 | 0 | 0 | 1 | 0 | 0 | 0 | 0 | 1 |\n",
       "|  750 | 0.2902098 | 0.7142857 | 0.10810811 | 0.6710593 | 0.4273356 | 0.000000000 | 0 | 0 | 0 | ⋯ | 0 | 1 | 0 | 0 | 1 | 0 | 0 | 0 | 0 | 1 |\n",
       "| 1527 | 0.2849650 | 0.6938776 | 0.14864865 | 0.6381145 | 0.4152249 | 0.005681818 | 0 | 0 | 0 | ⋯ | 0 | 0 | 1 | 0 | 1 | 0 | 0 | 0 | 0 | 1 |\n",
       "|  809 | 0.3041958 | 0.5816327 | 0.08108108 | 0.6300051 | 0.3944637 | 0.127840909 | 0 | 0 | 0 | ⋯ | 0 | 0 | 0 | 1 | 1 | 0 | 0 | 0 | 0 | 1 |\n",
       "|  554 | 0.3444056 | 0.5204082 | 0.10810811 | 0.5078561 | 0.4065744 | 0.286931818 | 0 | 0 | 0 | ⋯ | 0 | 0 | 0 | 0 | 1 | 0 | 0 | 0 | 0 | 1 |\n",
       "|  642 | 0.4038462 | 0.4387755 | 0.24324324 | 0.5828687 | 0.4221453 | 0.392045455 | 0 | 0 | 0 | ⋯ | 0 | 0 | 0 | 0 | 1 | 0 | 0 | 0 | 0 | 1 |\n",
       "|  720 | 0.4265734 | 0.3571429 | 0.17567568 | 0.7004562 | 0.3944637 | 0.482954545 | 0 | 0 | 0 | ⋯ | 0 | 0 | 0 | 0 | 1 | 0 | 0 | 0 | 0 | 1 |\n",
       "|  740 | 0.4353147 | 0.2448980 | 0.37837838 | 0.9178915 | 0.3200692 | 0.519886364 | 0 | 0 | 0 | ⋯ | 0 | 0 | 0 | 0 | 1 | 0 | 0 | 0 | 0 | 1 |\n",
       "|  761 | 0.4475524 | 0.2040816 | 0.29729730 | 1.0000000 | 0.2906574 | 0.474431818 | 0 | 0 | 0 | ⋯ | 0 | 0 | 0 | 0 | 1 | 0 | 0 | 0 | 0 | 1 |\n",
       "|  768 | 0.4335664 | 0.2040816 | 0.44594595 | 0.9969589 | 0.2802768 | 0.343750000 | 0 | 0 | 0 | ⋯ | 0 | 0 | 0 | 0 | 1 | 0 | 0 | 0 | 0 | 1 |\n",
       "|  837 | 0.4370629 | 0.2346939 | 0.20270270 | 0.9721237 | 0.3114187 | 0.204545455 | 0 | 0 | 0 | ⋯ | 0 | 0 | 0 | 0 | 1 | 0 | 0 | 0 | 0 | 1 |\n",
       "| 1047 | 0.4160839 | 0.2959184 | 0.28378378 | 0.9376584 | 0.3442907 | 0.065340909 | 0 | 0 | 0 | ⋯ | 0 | 0 | 0 | 0 | 1 | 0 | 0 | 0 | 0 | 1 |\n",
       "| 1384 | 0.3933566 | 0.3469388 | 0.25675676 | 0.8281804 | 0.3598616 | 0.000000000 | 0 | 0 | 0 | ⋯ | 0 | 0 | 0 | 0 | 1 | 0 | 0 | 0 | 0 | 1 |\n",
       "| 1003 | 0.3846154 | 0.3469388 | 0.35135135 | 0.9462747 | 0.3512111 | 0.000000000 | 0 | 0 | 0 | ⋯ | 0 | 0 | 0 | 0 | 1 | 0 | 0 | 0 | 0 | 1 |\n",
       "|  764 | 0.3706294 | 0.3775510 | 0.31081081 | 1.0000000 | 0.3581315 | 0.000000000 | 0 | 0 | 0 | ⋯ | 0 | 0 | 0 | 0 | 1 | 0 | 0 | 0 | 0 | 1 |\n",
       "|  694 | 0.3566434 | 0.3979592 | 0.04054054 | 0.9837810 | 0.3581315 | 0.000000000 | 0 | 0 | 0 | ⋯ | 0 | 0 | 0 | 0 | 1 | 0 | 0 | 0 | 0 | 1 |\n",
       "|  712 | 0.3479021 | 0.4183673 | 0.13513514 | 0.9285352 | 0.3598616 | 0.000000000 | 0 | 0 | 0 | ⋯ | 0 | 0 | 0 | 0 | 1 | 0 | 0 | 0 | 0 | 1 |\n",
       "|  584 | 0.3444056 | 0.4387755 | 0.17567568 | 0.9538773 | 0.3685121 | 0.000000000 | 0 | 0 | 0 | ⋯ | 0 | 0 | 0 | 0 | 1 | 0 | 0 | 0 | 0 | 1 |\n",
       "\n"
      ],
      "text/plain": [
       "     RENTED_BIKE_COUNT TEMPERATURE HUMIDITY  WIND_SPEED VISIBILITY\n",
       "1    254               0.2202797   0.3775510 0.29729730 1.0000000 \n",
       "2    204               0.2150350   0.3877551 0.10810811 1.0000000 \n",
       "3    173               0.2062937   0.3979592 0.13513514 1.0000000 \n",
       "4    107               0.2027972   0.4081633 0.12162162 1.0000000 \n",
       "5     78               0.2062937   0.3673469 0.31081081 1.0000000 \n",
       "6    100               0.1993007   0.3775510 0.20270270 1.0000000 \n",
       "7    181               0.1958042   0.3571429 0.17567568 1.0000000 \n",
       "8    460               0.1818182   0.3877551 0.12162162 1.0000000 \n",
       "9    930               0.1783217   0.3775510 0.14864865 1.0000000 \n",
       "10   490               0.1975524   0.2755102 0.06756757 0.9635073 \n",
       "11   339               0.2500000   0.2448980 0.16216216 0.9979726 \n",
       "12   360               0.3024476   0.2142857 0.17567568 0.9675621 \n",
       "13   449               0.3409091   0.2346939 0.18918919 1.0000000 \n",
       "14   451               0.3531469   0.2551020 0.21621622 1.0000000 \n",
       "15   447               0.3636364   0.2653061 0.27027027 1.0000000 \n",
       "16   463               0.3479021   0.3673469 0.43243243 1.0000000 \n",
       "17   484               0.3321678   0.5510204 0.56756757 0.3882413 \n",
       "18   555               0.3251748   0.5918367 0.21621622 1.0000000 \n",
       "19   862               0.3216783   0.6734694 0.18918919 1.0000000 \n",
       "20   600               0.3111888   0.7857143 0.22972973 1.0000000 \n",
       "21   426               0.3059441   0.8061224 0.20270270 0.9559047 \n",
       "22   405               0.2972028   0.8265306 0.10810811 0.8413583 \n",
       "23   398               0.2954545   0.8469388 0.20270270 0.6857577 \n",
       "24   323               0.2884615   0.8571429 0.13513514 0.6274709 \n",
       "25   328               0.2797203   0.8877551 0.14864865 0.4901166 \n",
       "26   308               0.2727273   0.8775510 0.08108108 0.4880892 \n",
       "27   262               0.2604895   0.8775510 0.20270270 0.6229093 \n",
       "28   167               0.2500000   0.8265306 0.29729730 0.6051698 \n",
       "29    89               0.2447552   0.8061224 0.27027027 0.5778003 \n",
       "30    79               0.2412587   0.8061224 0.20270270 0.5955398 \n",
       "⋮    ⋮                 ⋮           ⋮         ⋮          ⋮         \n",
       "8436 1577              0.3111888   0.4693878 0.12162162 0.7800304 \n",
       "8437 1026              0.4020979   0.4897959 0.25675676 0.7921946 \n",
       "8438  818              0.3828671   0.5510204 0.17567568 0.7131272 \n",
       "8439  792              0.3776224   0.5612245 0.28378378 0.6102382 \n",
       "8440  726              0.3636364   0.6020408 0.14864865 0.6036493 \n",
       "8441  559              0.3566434   0.5714286 0.25675676 0.6928535 \n",
       "8442  474              0.3426573   0.6326531 0.21621622 0.7014698 \n",
       "8443  456              0.3339161   0.6428571 0.27027027 0.6852509 \n",
       "8444  300              0.3216783   0.6734694 0.06756757 0.6796756 \n",
       "8445  213              0.3094406   0.7040816 0.12162162 0.6644703 \n",
       "8446  116              0.3024476   0.7244898 0.05405405 0.6680182 \n",
       "8447  149              0.2989510   0.6734694 0.06756757 0.6634567 \n",
       "8448  293              0.2972028   0.6938776 0.10810811 0.6563609 \n",
       "8449  750              0.2902098   0.7142857 0.10810811 0.6710593 \n",
       "8450 1527              0.2849650   0.6938776 0.14864865 0.6381145 \n",
       "8451  809              0.3041958   0.5816327 0.08108108 0.6300051 \n",
       "8452  554              0.3444056   0.5204082 0.10810811 0.5078561 \n",
       "8453  642              0.4038462   0.4387755 0.24324324 0.5828687 \n",
       "8454  720              0.4265734   0.3571429 0.17567568 0.7004562 \n",
       "8455  740              0.4353147   0.2448980 0.37837838 0.9178915 \n",
       "8456  761              0.4475524   0.2040816 0.29729730 1.0000000 \n",
       "8457  768              0.4335664   0.2040816 0.44594595 0.9969589 \n",
       "8458  837              0.4370629   0.2346939 0.20270270 0.9721237 \n",
       "8459 1047              0.4160839   0.2959184 0.28378378 0.9376584 \n",
       "8460 1384              0.3933566   0.3469388 0.25675676 0.8281804 \n",
       "8461 1003              0.3846154   0.3469388 0.35135135 0.9462747 \n",
       "8462  764              0.3706294   0.3775510 0.31081081 1.0000000 \n",
       "8463  694              0.3566434   0.3979592 0.04054054 0.9837810 \n",
       "8464  712              0.3479021   0.4183673 0.13513514 0.9285352 \n",
       "8465  584              0.3444056   0.4387755 0.17567568 0.9538773 \n",
       "     DEW_POINT_TEMPERATURE SOLAR_RADIATION RAINFALL SNOWFALL 0 ⋯ 6 7 8 9 AUTUMN\n",
       "1    0.2249135             0.000000000     0        0        1 ⋯ 0 0 0 0 0     \n",
       "2    0.2249135             0.000000000     0        0        0 ⋯ 0 0 0 0 0     \n",
       "3    0.2231834             0.000000000     0        0        0 ⋯ 0 0 0 0 0     \n",
       "4    0.2249135             0.000000000     0        0        0 ⋯ 0 0 0 0 0     \n",
       "5    0.2076125             0.000000000     0        0        0 ⋯ 0 0 0 0 0     \n",
       "6    0.2058824             0.000000000     0        0        0 ⋯ 0 0 0 0 0     \n",
       "7    0.1920415             0.000000000     0        0        0 ⋯ 1 0 0 0 0     \n",
       "8    0.1955017             0.000000000     0        0        0 ⋯ 0 1 0 0 0     \n",
       "9    0.1868512             0.002840909     0        0        0 ⋯ 0 0 1 0 0     \n",
       "10   0.1418685             0.065340909     0        0        0 ⋯ 0 0 0 1 0     \n",
       "11   0.1626298             0.184659091     0        0        0 ⋯ 0 0 0 0 0     \n",
       "12   0.1799308             0.267045455     0        0        0 ⋯ 0 0 0 0 0     \n",
       "13   0.2318339             0.315340909     0        0        0 ⋯ 0 0 0 0 0     \n",
       "14   0.2595156             0.329545455     0        0        0 ⋯ 0 0 0 0 0     \n",
       "15   0.2768166             0.286931818     0        0        0 ⋯ 0 0 0 0 0     \n",
       "16   0.3321799             0.153409091     0        0        0 ⋯ 0 0 0 0 0     \n",
       "17   0.4083045             0.068181818     0        0        0 ⋯ 0 0 0 0 0     \n",
       "18   0.4169550             0.022727273     0        0        0 ⋯ 0 0 0 0 0     \n",
       "19   0.4429066             0.000000000     0        0        0 ⋯ 0 0 0 0 0     \n",
       "20   0.4688581             0.000000000     0        0        0 ⋯ 0 0 0 0 0     \n",
       "21   0.4688581             0.000000000     0        0        0 ⋯ 0 0 0 0 0     \n",
       "22   0.4671280             0.000000000     0        0        0 ⋯ 0 0 0 0 0     \n",
       "23   0.4705882             0.000000000     0        0        0 ⋯ 0 0 0 0 0     \n",
       "24   0.4671280             0.000000000     0        0        0 ⋯ 0 0 0 0 0     \n",
       "25   0.4671280             0.000000000     0        0        1 ⋯ 0 0 0 0 0     \n",
       "26   0.4567474             0.000000000     0        0        0 ⋯ 0 0 0 0 0     \n",
       "27   0.4446367             0.000000000     0        0        0 ⋯ 0 0 0 0 0     \n",
       "28   0.4221453             0.000000000     0        0        0 ⋯ 0 0 0 0 0     \n",
       "29   0.4100346             0.000000000     0        0        0 ⋯ 0 0 0 0 0     \n",
       "30   0.4065744             0.000000000     0        0        0 ⋯ 0 0 0 0 0     \n",
       "⋮    ⋮                     ⋮               ⋮        ⋮        ⋮ ⋱ ⋮ ⋮ ⋮ ⋮ ⋮     \n",
       "8436 0.4463668             0.000000000     0        0        0 ⋯ 0 0 0 0 1     \n",
       "8437 0.4446367             0.000000000     0        0        0 ⋯ 0 0 0 0 1     \n",
       "8438 0.4550173             0.000000000     0        0        0 ⋯ 0 0 0 0 1     \n",
       "8439 0.4532872             0.000000000     0        0        0 ⋯ 0 0 0 0 1     \n",
       "8440 0.4567474             0.000000000     0        0        0 ⋯ 0 0 0 0 1     \n",
       "8441 0.4377163             0.000000000     0        0        0 ⋯ 0 0 0 0 1     \n",
       "8442 0.4480969             0.000000000     0        0        1 ⋯ 0 0 0 0 1     \n",
       "8443 0.4446367             0.000000000     0        0        0 ⋯ 0 0 0 0 1     \n",
       "8444 0.4429066             0.000000000     0        0        0 ⋯ 0 0 0 0 1     \n",
       "8445 0.4411765             0.000000000     0        0        0 ⋯ 0 0 0 0 1     \n",
       "8446 0.4411765             0.000000000     0        0        0 ⋯ 0 0 0 0 1     \n",
       "8447 0.4221453             0.000000000     0        0        0 ⋯ 0 0 0 0 1     \n",
       "8448 0.4273356             0.000000000     0        0        0 ⋯ 1 0 0 0 1     \n",
       "8449 0.4273356             0.000000000     0        0        0 ⋯ 0 1 0 0 1     \n",
       "8450 0.4152249             0.005681818     0        0        0 ⋯ 0 0 1 0 1     \n",
       "8451 0.3944637             0.127840909     0        0        0 ⋯ 0 0 0 1 1     \n",
       "8452 0.4065744             0.286931818     0        0        0 ⋯ 0 0 0 0 1     \n",
       "8453 0.4221453             0.392045455     0        0        0 ⋯ 0 0 0 0 1     \n",
       "8454 0.3944637             0.482954545     0        0        0 ⋯ 0 0 0 0 1     \n",
       "8455 0.3200692             0.519886364     0        0        0 ⋯ 0 0 0 0 1     \n",
       "8456 0.2906574             0.474431818     0        0        0 ⋯ 0 0 0 0 1     \n",
       "8457 0.2802768             0.343750000     0        0        0 ⋯ 0 0 0 0 1     \n",
       "8458 0.3114187             0.204545455     0        0        0 ⋯ 0 0 0 0 1     \n",
       "8459 0.3442907             0.065340909     0        0        0 ⋯ 0 0 0 0 1     \n",
       "8460 0.3598616             0.000000000     0        0        0 ⋯ 0 0 0 0 1     \n",
       "8461 0.3512111             0.000000000     0        0        0 ⋯ 0 0 0 0 1     \n",
       "8462 0.3581315             0.000000000     0        0        0 ⋯ 0 0 0 0 1     \n",
       "8463 0.3581315             0.000000000     0        0        0 ⋯ 0 0 0 0 1     \n",
       "8464 0.3598616             0.000000000     0        0        0 ⋯ 0 0 0 0 1     \n",
       "8465 0.3685121             0.000000000     0        0        0 ⋯ 0 0 0 0 1     \n",
       "     SPRING SUMMER WINTER HOLIDAY NO_HOLIDAY\n",
       "1    0      0      1      0       1         \n",
       "2    0      0      1      0       1         \n",
       "3    0      0      1      0       1         \n",
       "4    0      0      1      0       1         \n",
       "5    0      0      1      0       1         \n",
       "6    0      0      1      0       1         \n",
       "7    0      0      1      0       1         \n",
       "8    0      0      1      0       1         \n",
       "9    0      0      1      0       1         \n",
       "10   0      0      1      0       1         \n",
       "11   0      0      1      0       1         \n",
       "12   0      0      1      0       1         \n",
       "13   0      0      1      0       1         \n",
       "14   0      0      1      0       1         \n",
       "15   0      0      1      0       1         \n",
       "16   0      0      1      0       1         \n",
       "17   0      0      1      0       1         \n",
       "18   0      0      1      0       1         \n",
       "19   0      0      1      0       1         \n",
       "20   0      0      1      0       1         \n",
       "21   0      0      1      0       1         \n",
       "22   0      0      1      0       1         \n",
       "23   0      0      1      0       1         \n",
       "24   0      0      1      0       1         \n",
       "25   0      0      1      0       1         \n",
       "26   0      0      1      0       1         \n",
       "27   0      0      1      0       1         \n",
       "28   0      0      1      0       1         \n",
       "29   0      0      1      0       1         \n",
       "30   0      0      1      0       1         \n",
       "⋮    ⋮      ⋮      ⋮      ⋮       ⋮         \n",
       "8436 0      0      0      0       1         \n",
       "8437 0      0      0      0       1         \n",
       "8438 0      0      0      0       1         \n",
       "8439 0      0      0      0       1         \n",
       "8440 0      0      0      0       1         \n",
       "8441 0      0      0      0       1         \n",
       "8442 0      0      0      0       1         \n",
       "8443 0      0      0      0       1         \n",
       "8444 0      0      0      0       1         \n",
       "8445 0      0      0      0       1         \n",
       "8446 0      0      0      0       1         \n",
       "8447 0      0      0      0       1         \n",
       "8448 0      0      0      0       1         \n",
       "8449 0      0      0      0       1         \n",
       "8450 0      0      0      0       1         \n",
       "8451 0      0      0      0       1         \n",
       "8452 0      0      0      0       1         \n",
       "8453 0      0      0      0       1         \n",
       "8454 0      0      0      0       1         \n",
       "8455 0      0      0      0       1         \n",
       "8456 0      0      0      0       1         \n",
       "8457 0      0      0      0       1         \n",
       "8458 0      0      0      0       1         \n",
       "8459 0      0      0      0       1         \n",
       "8460 0      0      0      0       1         \n",
       "8461 0      0      0      0       1         \n",
       "8462 0      0      0      0       1         \n",
       "8463 0      0      0      0       1         \n",
       "8464 0      0      0      0       1         \n",
       "8465 0      0      0      0       1         "
      ]
     },
     "metadata": {},
     "output_type": "display_data"
    }
   ],
   "source": [
    "bike_sharing_df <- bike_sharing_df %>% \n",
    "                   select(-DATE, -FUNCTIONING_DAY)\n",
    "bike_sharing_df"
   ]
  },
  {
   "cell_type": "markdown",
   "metadata": {},
   "source": [
    "# TASK: Split training and testing data\n"
   ]
  },
  {
   "cell_type": "markdown",
   "metadata": {},
   "source": [
    "First, we need to split the full dataset into training and testing datasets.\n",
    "\n",
    "The training dataset will be used for fitting regression models, and the testing dataset will be used to evaluate the trained models.\n"
   ]
  },
  {
   "cell_type": "markdown",
   "metadata": {},
   "source": [
    "*TODO:* Use the `initial_split()`, `training()`, and `testing()` functions to generate a training dataset consisting of 75% of the original dataset, and a testing dataset using the remaining 25%.\n"
   ]
  },
  {
   "cell_type": "code",
   "execution_count": 4,
   "metadata": {},
   "outputs": [],
   "source": [
    "# Use the `initial_split()`, `training()`, and `testing()` functions to split the dataset\n",
    "# With seed 1234\n",
    "set.seed(1234)\n",
    "bike_split <- initial_split(bike_sharing_df, prop=3/4)\n",
    "train_data <- training(bike_split)\n",
    "test_data <- testing(bike_split)"
   ]
  },
  {
   "cell_type": "markdown",
   "metadata": {},
   "source": [
    "# TASK: Build a linear regression model using weather variables only\n"
   ]
  },
  {
   "cell_type": "markdown",
   "metadata": {},
   "source": [
    "As you could imagine, weather conditions may affect people's bike renting decisions. For example, on a cold and rainy day, you may choose alternate transportation such as a bus or taxi.  While on a nice sunny day, you may want to rent a bike for a short-distance travel.\n"
   ]
  },
  {
   "cell_type": "markdown",
   "metadata": {},
   "source": [
    "Thus, can we predict a city's bike-sharing demand based on its local weather information? Let's try to build a regression model to do that.\n"
   ]
  },
  {
   "cell_type": "markdown",
   "metadata": {},
   "source": [
    "*TODO:* Build a linear regression model called `lm_model_weather` using the following variables:\n",
    "\n",
    "*   `TEMPERATURE` - Temperature in Celsius\n",
    "*   `HUMIDITY` - Unit is `%`\n",
    "*   `WIND_SPEED` - Unit is `m/s`\n",
    "*   `VISIBILITY` - Multiplied by 10m\n",
    "*   `DEW_POINT_TEMPERATURE` - The temperature to which the air would have to cool down in order to reach saturation, unit is Celsius\n",
    "*   `SOLAR_RADIATION` - MJ/m2\n",
    "*   `RAINFALL` - mm\n",
    "*   `SNOWFALL` - cm\n"
   ]
  },
  {
   "cell_type": "markdown",
   "metadata": {},
   "source": [
    "Define a linear regression model specification.\n"
   ]
  },
  {
   "cell_type": "code",
   "execution_count": 5,
   "metadata": {},
   "outputs": [
    {
     "data": {
      "text/plain": [
       "Linear Regression Model Specification (regression)\n",
       "\n",
       "Computational engine: lm \n"
      ]
     },
     "metadata": {},
     "output_type": "display_data"
    }
   ],
   "source": [
    "# Use `linear_reg()` with engine `lm` and mode `regression`\n",
    "model_spec <- linear_reg(mode=\"regression\") %>%\n",
    "                set_engine(engine=\"lm\")\n",
    "model_spec"
   ]
  },
  {
   "cell_type": "markdown",
   "metadata": {},
   "source": [
    "Fit a model with the response variable `RENTED_BIKE_COUNT` and predictor variables `TEMPERATURE + HUMIDITY + WIND_SPEED + VISIBILITY + DEW_POINT_TEMPERATURE + SOLAR_RADIATION + RAINFALL + SNOWFALL`\n"
   ]
  },
  {
   "cell_type": "code",
   "execution_count": 6,
   "metadata": {},
   "outputs": [],
   "source": [
    "# Fit the model called `lm_model_weather`\n",
    "# RENTED_BIKE_COUNT ~ TEMPERATURE + HUMIDITY + WIND_SPEED + VISIBILITY + DEW_POINT_TEMPERATURE + SOLAR_RADIATION + RAINFALL + SNOWFALL,  with the training data\n",
    "lm_model_weather <- model_spec %>% \n",
    "    fit(RENTED_BIKE_COUNT ~ TEMPERATURE + HUMIDITY + WIND_SPEED + VISIBILITY + DEW_POINT_TEMPERATURE + SOLAR_RADIATION + RAINFALL + SNOWFALL, data = train_data)\n"
   ]
  },
  {
   "cell_type": "markdown",
   "metadata": {},
   "source": [
    "Print the fit summary for the `lm_model_weather` model.\n"
   ]
  },
  {
   "cell_type": "code",
   "execution_count": 7,
   "metadata": {},
   "outputs": [
    {
     "data": {
      "text/plain": [
       "\n",
       "Call:\n",
       "stats::lm(formula = formula, data = data)\n",
       "\n",
       "Residuals:\n",
       "     Min       1Q   Median       3Q      Max \n",
       "-1344.44  -300.48   -58.56   208.27  2332.53 \n",
       "\n",
       "Coefficients:\n",
       "                       Estimate Std. Error t value Pr(>|t|)    \n",
       "(Intercept)             147.647     57.417   2.571  0.01015 *  \n",
       "TEMPERATURE            2452.112    259.315   9.456  < 2e-16 ***\n",
       "HUMIDITY               -895.830    124.925  -7.171 8.29e-13 ***\n",
       "WIND_SPEED              402.183     48.218   8.341  < 2e-16 ***\n",
       "VISIBILITY                5.356     24.908   0.215  0.82975    \n",
       "DEW_POINT_TEMPERATURE  -368.982    275.535  -1.339  0.18057    \n",
       "SOLAR_RADIATION        -435.703     35.071 -12.423  < 2e-16 ***\n",
       "RAINFALL              -1771.467    184.470  -9.603  < 2e-16 ***\n",
       "SNOWFALL                354.761    133.992   2.648  0.00813 ** \n",
       "---\n",
       "Signif. codes:  0 ‘***’ 0.001 ‘**’ 0.01 ‘*’ 0.05 ‘.’ 0.1 ‘ ’ 1\n",
       "\n",
       "Residual standard error: 488.6 on 6340 degrees of freedom\n",
       "Multiple R-squared:  0.4281,\tAdjusted R-squared:  0.4274 \n",
       "F-statistic: 593.2 on 8 and 6340 DF,  p-value: < 2.2e-16\n"
      ]
     },
     "metadata": {},
     "output_type": "display_data"
    }
   ],
   "source": [
    "summary(lm_model_weather$fit)"
   ]
  },
  {
   "cell_type": "markdown",
   "metadata": {},
   "source": [
    "You should see the model details such as formula, residuals, and coefficients.\n"
   ]
  },
  {
   "cell_type": "markdown",
   "metadata": {},
   "source": [
    "# TASK: Build a linear regression model using all variables\n"
   ]
  },
  {
   "cell_type": "markdown",
   "metadata": {},
   "source": [
    "In addition to weather, there could be other factors that may affect bike rental demand, such as the time of a day or if today is a holiday or not.\n"
   ]
  },
  {
   "cell_type": "markdown",
   "metadata": {},
   "source": [
    "Next, let's build a linear regression model using all variables (weather + date/time) in this task.\n"
   ]
  },
  {
   "cell_type": "markdown",
   "metadata": {},
   "source": [
    "*TODO:* Build a linear regression model called `lm_model_all` using all variables `RENTED_BIKE_COUNT ~ .`\n"
   ]
  },
  {
   "cell_type": "code",
   "execution_count": 8,
   "metadata": {},
   "outputs": [],
   "source": [
    "# Fit the model called `lm_model_all`\n",
    "# `RENTED_BIKE_COUNT ~ .` means use all other variables except for the response variable\n",
    "lm_model_all <- model_spec %>%\n",
    "    fit(RENTED_BIKE_COUNT ~ ., data = train_data)"
   ]
  },
  {
   "cell_type": "markdown",
   "metadata": {},
   "source": [
    "Print the fit summary for `lm_model_all`.\n"
   ]
  },
  {
   "cell_type": "code",
   "execution_count": 9,
   "metadata": {},
   "outputs": [
    {
     "data": {
      "text/plain": [
       "\n",
       "Call:\n",
       "stats::lm(formula = formula, data = data)\n",
       "\n",
       "Residuals:\n",
       "     Min       1Q   Median       3Q      Max \n",
       "-1390.19  -220.95    -9.08   202.68  1774.61 \n",
       "\n",
       "Coefficients: (3 not defined because of singularities)\n",
       "                       Estimate Std. Error t value Pr(>|t|)    \n",
       "(Intercept)             216.584     50.673   4.274 1.95e-05 ***\n",
       "TEMPERATURE             810.604    209.034   3.878 0.000106 ***\n",
       "HUMIDITY               -920.587     97.243  -9.467  < 2e-16 ***\n",
       "WIND_SPEED               -9.313     40.268  -0.231 0.817101    \n",
       "VISIBILITY               24.368     20.235   1.204 0.228533    \n",
       "DEW_POINT_TEMPERATURE   632.384    217.478   2.908 0.003652 ** \n",
       "SOLAR_RADIATION         249.752     41.347   6.040 1.62e-09 ***\n",
       "RAINFALL              -1982.940    143.642 -13.805  < 2e-16 ***\n",
       "SNOWFALL                232.451    104.609   2.222 0.026312 *  \n",
       "`0`                     -12.500     34.010  -0.368 0.713234    \n",
       "`1`                    -125.701     34.579  -3.635 0.000280 ***\n",
       "`10`                   -222.233     33.316  -6.671 2.76e-11 ***\n",
       "`11`                   -231.428     33.981  -6.811 1.06e-11 ***\n",
       "`12`                   -194.605     34.559  -5.631 1.87e-08 ***\n",
       "`13`                   -189.528     35.199  -5.385 7.53e-08 ***\n",
       "`14`                   -183.060     35.246  -5.194 2.12e-07 ***\n",
       "`15`                   -103.127     35.096  -2.938 0.003311 ** \n",
       "`16`                     43.598     34.230   1.274 0.202829    \n",
       "`17`                    306.732     34.272   8.950  < 2e-16 ***\n",
       "`18`                    782.842     34.512  22.683  < 2e-16 ***\n",
       "`19`                    519.456     34.541  15.039  < 2e-16 ***\n",
       "`2`                    -259.946     34.575  -7.518 6.32e-14 ***\n",
       "`20`                    394.635     34.729  11.363  < 2e-16 ***\n",
       "`21`                    430.185     34.337  12.528  < 2e-16 ***\n",
       "`22`                    322.664     33.935   9.508  < 2e-16 ***\n",
       "`23`                     90.181     33.974   2.654 0.007965 ** \n",
       "`3`                    -327.245     33.890  -9.656  < 2e-16 ***\n",
       "`4`                    -389.558     34.033 -11.447  < 2e-16 ***\n",
       "`5`                    -379.055     33.818 -11.209  < 2e-16 ***\n",
       "`6`                    -216.689     34.166  -6.342 2.42e-10 ***\n",
       "`7`                     110.492     33.930   3.256 0.001134 ** \n",
       "`8`                     502.354     33.506  14.993  < 2e-16 ***\n",
       "`9`                          NA         NA      NA       NA    \n",
       "AUTUMN                  357.978     19.997  17.902  < 2e-16 ***\n",
       "SPRING                  194.421     19.218  10.117  < 2e-16 ***\n",
       "SUMMER                  172.901     29.043   5.953 2.77e-09 ***\n",
       "WINTER                       NA         NA      NA       NA    \n",
       "HOLIDAY                -129.167     22.447  -5.754 9.11e-09 ***\n",
       "NO_HOLIDAY                   NA         NA      NA       NA    \n",
       "---\n",
       "Signif. codes:  0 ‘***’ 0.001 ‘**’ 0.01 ‘*’ 0.05 ‘.’ 0.1 ‘ ’ 1\n",
       "\n",
       "Residual standard error: 376.4 on 6313 degrees of freedom\n",
       "Multiple R-squared:  0.6622,\tAdjusted R-squared:  0.6603 \n",
       "F-statistic: 353.5 on 35 and 6313 DF,  p-value: < 2.2e-16\n"
      ]
     },
     "metadata": {},
     "output_type": "display_data"
    }
   ],
   "source": [
    "summary(lm_model_all$fit)"
   ]
  },
  {
   "cell_type": "markdown",
   "metadata": {},
   "source": [
    "Now you have built two basic linear regression models with different predictor variables, let's evaluate which model has better performance,\n"
   ]
  },
  {
   "cell_type": "markdown",
   "metadata": {},
   "source": [
    "# TASK: Model evaluation and identification of important variables\n"
   ]
  },
  {
   "cell_type": "markdown",
   "metadata": {},
   "source": [
    "Now that you have built two regression models, `lm_model_weather` and `lm_model_all`, with different predictor variables, you need to compare their performance to see which one is better.\n"
   ]
  },
  {
   "cell_type": "markdown",
   "metadata": {},
   "source": [
    "In this project, you will be asked to use very important metrics that are often used in Statistics to determine the performance of a model:\n",
    "\n",
    "1.  R^2 / R-squared\n",
    "2.  Root Mean Squared Error (RMSE)\n",
    "\n",
    "**R-squared**\n",
    "\n",
    "<p>R squared, also known as the coefficient of determination, is a measure to indicate how close the data is to the fitted regression line. The value of R-squared is the percentage of variation of the response variable (y) that is explained by a linear model.</p>\n",
    "\n",
    "**Root Mean Squared Error (RMSE)**\n",
    "$$\n",
    "RMSE = \\sqrt{MSE}\n",
    "$$\n",
    "\n",
    "As you know, the Mean Squared Error measures the average of the squares of errors, where 'error' is the difference between the actual value ($y$) and the estimated value ($ŷ$).\n",
    "Another metric that is related to MSE is **Root Mean Squared Error (RMSE)** and is simply the square root of MSE.\n"
   ]
  },
  {
   "cell_type": "markdown",
   "metadata": {},
   "source": [
    "We first need to test the `lm_model_weather` and `lm_model_all` models against the test dataset `test_data`, and generate `RENTED_BIKE_COUNT` prediction results.\n"
   ]
  },
  {
   "cell_type": "markdown",
   "metadata": {},
   "source": [
    "*TODO:* Make predictions on the testing dataset using both `lm_model_weather` and `lm_model_all` models\n"
   ]
  },
  {
   "cell_type": "code",
   "execution_count": 10,
   "metadata": {},
   "outputs": [
    {
     "name": "stderr",
     "output_type": "stream",
     "text": [
      "Warning message in predict.lm(object = object$fit, newdata = new_data, type = \"response\"):\n",
      "“prediction from a rank-deficient fit may be misleading”"
     ]
    },
    {
     "data": {
      "text/html": [
       "<table>\n",
       "<caption>A tibble: 6 × 2</caption>\n",
       "<thead>\n",
       "\t<tr><th scope=col>.pred</th><th scope=col>truth</th></tr>\n",
       "\t<tr><th scope=col>&lt;dbl&gt;</th><th scope=col>&lt;dbl&gt;</th></tr>\n",
       "</thead>\n",
       "<tbody>\n",
       "\t<tr><td>274.3531</td><td>173</td></tr>\n",
       "\t<tr><td>378.1757</td><td> 78</td></tr>\n",
       "\t<tr><td>312.9917</td><td>181</td></tr>\n",
       "\t<tr><td>336.7766</td><td>490</td></tr>\n",
       "\t<tr><td>631.8560</td><td>449</td></tr>\n",
       "\t<tr><td>638.0489</td><td>451</td></tr>\n",
       "</tbody>\n",
       "</table>\n"
      ],
      "text/latex": [
       "A tibble: 6 × 2\n",
       "\\begin{tabular}{ll}\n",
       " .pred & truth\\\\\n",
       " <dbl> & <dbl>\\\\\n",
       "\\hline\n",
       "\t 274.3531 & 173\\\\\n",
       "\t 378.1757 &  78\\\\\n",
       "\t 312.9917 & 181\\\\\n",
       "\t 336.7766 & 490\\\\\n",
       "\t 631.8560 & 449\\\\\n",
       "\t 638.0489 & 451\\\\\n",
       "\\end{tabular}\n"
      ],
      "text/markdown": [
       "\n",
       "A tibble: 6 × 2\n",
       "\n",
       "| .pred &lt;dbl&gt; | truth &lt;dbl&gt; |\n",
       "|---|---|\n",
       "| 274.3531 | 173 |\n",
       "| 378.1757 |  78 |\n",
       "| 312.9917 | 181 |\n",
       "| 336.7766 | 490 |\n",
       "| 631.8560 | 449 |\n",
       "| 638.0489 | 451 |\n",
       "\n"
      ],
      "text/plain": [
       "  .pred    truth\n",
       "1 274.3531 173  \n",
       "2 378.1757  78  \n",
       "3 312.9917 181  \n",
       "4 336.7766 490  \n",
       "5 631.8560 449  \n",
       "6 638.0489 451  "
      ]
     },
     "metadata": {},
     "output_type": "display_data"
    },
    {
     "data": {
      "text/html": [
       "<table>\n",
       "<caption>A tibble: 6 × 2</caption>\n",
       "<thead>\n",
       "\t<tr><th scope=col>.pred</th><th scope=col>truth</th></tr>\n",
       "\t<tr><th scope=col>&lt;dbl&gt;</th><th scope=col>&lt;dbl&gt;</th></tr>\n",
       "</thead>\n",
       "<tbody>\n",
       "\t<tr><td> -78.24847</td><td>173</td></tr>\n",
       "\t<tr><td>-191.16239</td><td> 78</td></tr>\n",
       "\t<tr><td> -25.99046</td><td>181</td></tr>\n",
       "\t<tr><td> 251.97376</td><td>490</td></tr>\n",
       "\t<tr><td> 330.23653</td><td>449</td></tr>\n",
       "\t<tr><td> 347.24700</td><td>451</td></tr>\n",
       "</tbody>\n",
       "</table>\n"
      ],
      "text/latex": [
       "A tibble: 6 × 2\n",
       "\\begin{tabular}{ll}\n",
       " .pred & truth\\\\\n",
       " <dbl> & <dbl>\\\\\n",
       "\\hline\n",
       "\t  -78.24847 & 173\\\\\n",
       "\t -191.16239 &  78\\\\\n",
       "\t  -25.99046 & 181\\\\\n",
       "\t  251.97376 & 490\\\\\n",
       "\t  330.23653 & 449\\\\\n",
       "\t  347.24700 & 451\\\\\n",
       "\\end{tabular}\n"
      ],
      "text/markdown": [
       "\n",
       "A tibble: 6 × 2\n",
       "\n",
       "| .pred &lt;dbl&gt; | truth &lt;dbl&gt; |\n",
       "|---|---|\n",
       "|  -78.24847 | 173 |\n",
       "| -191.16239 |  78 |\n",
       "|  -25.99046 | 181 |\n",
       "|  251.97376 | 490 |\n",
       "|  330.23653 | 449 |\n",
       "|  347.24700 | 451 |\n",
       "\n"
      ],
      "text/plain": [
       "  .pred      truth\n",
       "1  -78.24847 173  \n",
       "2 -191.16239  78  \n",
       "3  -25.99046 181  \n",
       "4  251.97376 490  \n",
       "5  330.23653 449  \n",
       "6  347.24700 451  "
      ]
     },
     "metadata": {},
     "output_type": "display_data"
    }
   ],
   "source": [
    "# Use predict() function to generate test results for `lm_model_weather` and `lm_model_all`\n",
    "# and generate two test results dataframe with a truth column:\n",
    "\n",
    "test_results_weather <- lm_model_weather %>%\n",
    "  # Make the predictions and save the predicted values\n",
    "  predict(new_data = test_data) %>%\n",
    "  # Create a new column to save the true values\n",
    "  mutate(truth = test_data$RENTED_BIKE_COUNT)\n",
    "\n",
    "test_results_all <- lm_model_all %>%\n",
    "    predict(new_data= test_data) %>%\n",
    "    mutate(truth = test_data$RENTED_BIKE_COUNT)\n",
    "\n",
    "# test_results_weather for lm_model_weather model\n",
    "head(test_results_weather)\n",
    "# test_results_all for lm_model_all\n",
    "head(test_results_all)"
   ]
  },
  {
   "cell_type": "markdown",
   "metadata": {},
   "source": [
    "NOTE: if you happen to see a warning like : `prediction from a rank-deficient fit may be misleading`, it may be casued by collinearity in the predictor variables. Collinearity means that one predictor variable can be predicted from other predictor variables to some degree. For example, `RAINFALL` could be predicted by `HUMIDITY`.\n",
    "\n",
    "But dont worry, you will address `glmnet` models (Lasso and Elastic-Net Regularized Generalized Linear Models) instead of regular `regression` models to solve this issue and futher improve the model performance.\n"
   ]
  },
  {
   "cell_type": "markdown",
   "metadata": {},
   "source": [
    "Next, let's calculate and print the R-squared and RMSE for the two test results\n"
   ]
  },
  {
   "cell_type": "markdown",
   "metadata": {},
   "source": [
    "*TODO:* Use `rsq()` and `rmse()` functions to calculate R-squared and RMSE metrics for the two test results\n"
   ]
  },
  {
   "cell_type": "code",
   "execution_count": 11,
   "metadata": {},
   "outputs": [
    {
     "data": {
      "text/html": [
       "<table>\n",
       "<caption>A tibble: 1 × 3</caption>\n",
       "<thead>\n",
       "\t<tr><th scope=col>.metric</th><th scope=col>.estimator</th><th scope=col>.estimate</th></tr>\n",
       "\t<tr><th scope=col>&lt;chr&gt;</th><th scope=col>&lt;chr&gt;</th><th scope=col>&lt;dbl&gt;</th></tr>\n",
       "</thead>\n",
       "<tbody>\n",
       "\t<tr><td>rsq</td><td>standard</td><td>0.4458692</td></tr>\n",
       "</tbody>\n",
       "</table>\n"
      ],
      "text/latex": [
       "A tibble: 1 × 3\n",
       "\\begin{tabular}{lll}\n",
       " .metric & .estimator & .estimate\\\\\n",
       " <chr> & <chr> & <dbl>\\\\\n",
       "\\hline\n",
       "\t rsq & standard & 0.4458692\\\\\n",
       "\\end{tabular}\n"
      ],
      "text/markdown": [
       "\n",
       "A tibble: 1 × 3\n",
       "\n",
       "| .metric &lt;chr&gt; | .estimator &lt;chr&gt; | .estimate &lt;dbl&gt; |\n",
       "|---|---|---|\n",
       "| rsq | standard | 0.4458692 |\n",
       "\n"
      ],
      "text/plain": [
       "  .metric .estimator .estimate\n",
       "1 rsq     standard   0.4458692"
      ]
     },
     "metadata": {},
     "output_type": "display_data"
    },
    {
     "data": {
      "text/html": [
       "<table>\n",
       "<caption>A tibble: 1 × 3</caption>\n",
       "<thead>\n",
       "\t<tr><th scope=col>.metric</th><th scope=col>.estimator</th><th scope=col>.estimate</th></tr>\n",
       "\t<tr><th scope=col>&lt;chr&gt;</th><th scope=col>&lt;chr&gt;</th><th scope=col>&lt;dbl&gt;</th></tr>\n",
       "</thead>\n",
       "<tbody>\n",
       "\t<tr><td>rsq</td><td>standard</td><td>0.6592615</td></tr>\n",
       "</tbody>\n",
       "</table>\n"
      ],
      "text/latex": [
       "A tibble: 1 × 3\n",
       "\\begin{tabular}{lll}\n",
       " .metric & .estimator & .estimate\\\\\n",
       " <chr> & <chr> & <dbl>\\\\\n",
       "\\hline\n",
       "\t rsq & standard & 0.6592615\\\\\n",
       "\\end{tabular}\n"
      ],
      "text/markdown": [
       "\n",
       "A tibble: 1 × 3\n",
       "\n",
       "| .metric &lt;chr&gt; | .estimator &lt;chr&gt; | .estimate &lt;dbl&gt; |\n",
       "|---|---|---|\n",
       "| rsq | standard | 0.6592615 |\n",
       "\n"
      ],
      "text/plain": [
       "  .metric .estimator .estimate\n",
       "1 rsq     standard   0.6592615"
      ]
     },
     "metadata": {},
     "output_type": "display_data"
    },
    {
     "data": {
      "text/html": [
       "<table>\n",
       "<caption>A tibble: 1 × 3</caption>\n",
       "<thead>\n",
       "\t<tr><th scope=col>.metric</th><th scope=col>.estimator</th><th scope=col>.estimate</th></tr>\n",
       "\t<tr><th scope=col>&lt;chr&gt;</th><th scope=col>&lt;chr&gt;</th><th scope=col>&lt;dbl&gt;</th></tr>\n",
       "</thead>\n",
       "<tbody>\n",
       "\t<tr><td>rmse</td><td>standard</td><td>470.4436</td></tr>\n",
       "</tbody>\n",
       "</table>\n"
      ],
      "text/latex": [
       "A tibble: 1 × 3\n",
       "\\begin{tabular}{lll}\n",
       " .metric & .estimator & .estimate\\\\\n",
       " <chr> & <chr> & <dbl>\\\\\n",
       "\\hline\n",
       "\t rmse & standard & 470.4436\\\\\n",
       "\\end{tabular}\n"
      ],
      "text/markdown": [
       "\n",
       "A tibble: 1 × 3\n",
       "\n",
       "| .metric &lt;chr&gt; | .estimator &lt;chr&gt; | .estimate &lt;dbl&gt; |\n",
       "|---|---|---|\n",
       "| rmse | standard | 470.4436 |\n",
       "\n"
      ],
      "text/plain": [
       "  .metric .estimator .estimate\n",
       "1 rmse    standard   470.4436 "
      ]
     },
     "metadata": {},
     "output_type": "display_data"
    },
    {
     "data": {
      "text/html": [
       "<table>\n",
       "<caption>A tibble: 1 × 3</caption>\n",
       "<thead>\n",
       "\t<tr><th scope=col>.metric</th><th scope=col>.estimator</th><th scope=col>.estimate</th></tr>\n",
       "\t<tr><th scope=col>&lt;chr&gt;</th><th scope=col>&lt;chr&gt;</th><th scope=col>&lt;dbl&gt;</th></tr>\n",
       "</thead>\n",
       "<tbody>\n",
       "\t<tr><td>rmse</td><td>standard</td><td>369.1709</td></tr>\n",
       "</tbody>\n",
       "</table>\n"
      ],
      "text/latex": [
       "A tibble: 1 × 3\n",
       "\\begin{tabular}{lll}\n",
       " .metric & .estimator & .estimate\\\\\n",
       " <chr> & <chr> & <dbl>\\\\\n",
       "\\hline\n",
       "\t rmse & standard & 369.1709\\\\\n",
       "\\end{tabular}\n"
      ],
      "text/markdown": [
       "\n",
       "A tibble: 1 × 3\n",
       "\n",
       "| .metric &lt;chr&gt; | .estimator &lt;chr&gt; | .estimate &lt;dbl&gt; |\n",
       "|---|---|---|\n",
       "| rmse | standard | 369.1709 |\n",
       "\n"
      ],
      "text/plain": [
       "  .metric .estimator .estimate\n",
       "1 rmse    standard   369.1709 "
      ]
     },
     "metadata": {},
     "output_type": "display_data"
    }
   ],
   "source": [
    "rsq_weather <- rsq(test_results_weather, truth=truth, estimate = .pred)\n",
    "rsq_weather\n",
    "rsq_all <- rsq(test_results_all, truth=truth, estimate = .pred)\n",
    "rsq_all\n",
    "rmse_weather <- rmse(test_results_weather, truth=truth, estimate = .pred)\n",
    "rmse_weather\n",
    "rmse_all <- rmse(test_results_all, truth=truth, estimate = .pred)\n",
    "rmse_all"
   ]
  },
  {
   "cell_type": "markdown",
   "metadata": {},
   "source": [
    "From these tables, you should find that the test results from `lm_model_all` are much better. It means that using both weather and datetime variables in the model generates better prediction results.\n"
   ]
  },
  {
   "cell_type": "markdown",
   "metadata": {},
   "source": [
    "Since `lm_model_all` has many predictor variables, let's check which predictor variables have larger coefficients. Variables with larger coefficients in the model means they attribute more in the prediction of `RENTED_BIKE_COUNT`. In addition, since all predictor variables are normalized to the same scale, 0 to 1, we thus can compare their coefficients directly.\n"
   ]
  },
  {
   "cell_type": "markdown",
   "metadata": {},
   "source": [
    "You could try building another regression model using the non-normalized `seoul_bike_sharing_converted.csv` dataset, and you would find that the coefficients are much different.\n"
   ]
  },
  {
   "cell_type": "markdown",
   "metadata": {},
   "source": [
    "First let's print all coefficients:\n"
   ]
  },
  {
   "cell_type": "code",
   "execution_count": 12,
   "metadata": {},
   "outputs": [
    {
     "data": {
      "text/html": [
       "<style>\n",
       ".dl-inline {width: auto; margin:0; padding: 0}\n",
       ".dl-inline>dt, .dl-inline>dd {float: none; width: auto; display: inline-block}\n",
       ".dl-inline>dt::after {content: \":\\0020\"; padding-right: .5ex}\n",
       ".dl-inline>dt:not(:first-of-type) {padding-left: .5ex}\n",
       "</style><dl class=dl-inline><dt>(Intercept)</dt><dd>216.584058520425</dd><dt>TEMPERATURE</dt><dd>810.603986705408</dd><dt>HUMIDITY</dt><dd>-920.586909252077</dd><dt>WIND_SPEED</dt><dd>-9.31331872226891</dd><dt>VISIBILITY</dt><dd>24.3680486652167</dd><dt>DEW_POINT_TEMPERATURE</dt><dd>632.384298001056</dd><dt>SOLAR_RADIATION</dt><dd>249.752454216444</dd><dt>RAINFALL</dt><dd>-1982.94042307599</dd><dt>SNOWFALL</dt><dd>232.450789844669</dd><dt>`0`</dt><dd>-12.4998037292523</dd><dt>`1`</dt><dd>-125.701499472983</dd><dt>`10`</dt><dd>-222.233261805256</dd><dt>`11`</dt><dd>-231.428410797234</dd><dt>`12`</dt><dd>-194.605041418871</dd><dt>`13`</dt><dd>-189.528425634735</dd><dt>`14`</dt><dd>-183.060291143358</dd><dt>`15`</dt><dd>-103.126884840928</dd><dt>`16`</dt><dd>43.597895314446</dd><dt>`17`</dt><dd>306.732435423589</dd><dt>`18`</dt><dd>782.84150725653</dd><dt>`19`</dt><dd>519.455508376907</dd><dt>`2`</dt><dd>-259.946174337005</dd><dt>`20`</dt><dd>394.634675841615</dd><dt>`21`</dt><dd>430.185214830003</dd><dt>`22`</dt><dd>322.663948586527</dd><dt>`23`</dt><dd>90.1808026195376</dd><dt>`3`</dt><dd>-327.244954867547</dd><dt>`4`</dt><dd>-389.558392056447</dd><dt>`5`</dt><dd>-379.055208923381</dd><dt>`6`</dt><dd>-216.689105145966</dd><dt>`7`</dt><dd>110.491958873144</dd><dt>`8`</dt><dd>502.353807713109</dd><dt>`9`</dt><dd>&lt;NA&gt;</dd><dt>AUTUMN</dt><dd>357.978264973985</dd><dt>SPRING</dt><dd>194.421437093438</dd><dt>SUMMER</dt><dd>172.901302381773</dd><dt>WINTER</dt><dd>&lt;NA&gt;</dd><dt>HOLIDAY</dt><dd>-129.167077549417</dd><dt>NO_HOLIDAY</dt><dd>&lt;NA&gt;</dd></dl>\n"
      ],
      "text/latex": [
       "\\begin{description*}\n",
       "\\item[(Intercept)] 216.584058520425\n",
       "\\item[TEMPERATURE] 810.603986705408\n",
       "\\item[HUMIDITY] -920.586909252077\n",
       "\\item[WIND\\textbackslash{}\\_SPEED] -9.31331872226891\n",
       "\\item[VISIBILITY] 24.3680486652167\n",
       "\\item[DEW\\textbackslash{}\\_POINT\\textbackslash{}\\_TEMPERATURE] 632.384298001056\n",
       "\\item[SOLAR\\textbackslash{}\\_RADIATION] 249.752454216444\n",
       "\\item[RAINFALL] -1982.94042307599\n",
       "\\item[SNOWFALL] 232.450789844669\n",
       "\\item[`0`] -12.4998037292523\n",
       "\\item[`1`] -125.701499472983\n",
       "\\item[`10`] -222.233261805256\n",
       "\\item[`11`] -231.428410797234\n",
       "\\item[`12`] -194.605041418871\n",
       "\\item[`13`] -189.528425634735\n",
       "\\item[`14`] -183.060291143358\n",
       "\\item[`15`] -103.126884840928\n",
       "\\item[`16`] 43.597895314446\n",
       "\\item[`17`] 306.732435423589\n",
       "\\item[`18`] 782.84150725653\n",
       "\\item[`19`] 519.455508376907\n",
       "\\item[`2`] -259.946174337005\n",
       "\\item[`20`] 394.634675841615\n",
       "\\item[`21`] 430.185214830003\n",
       "\\item[`22`] 322.663948586527\n",
       "\\item[`23`] 90.1808026195376\n",
       "\\item[`3`] -327.244954867547\n",
       "\\item[`4`] -389.558392056447\n",
       "\\item[`5`] -379.055208923381\n",
       "\\item[`6`] -216.689105145966\n",
       "\\item[`7`] 110.491958873144\n",
       "\\item[`8`] 502.353807713109\n",
       "\\item[`9`] <NA>\n",
       "\\item[AUTUMN] 357.978264973985\n",
       "\\item[SPRING] 194.421437093438\n",
       "\\item[SUMMER] 172.901302381773\n",
       "\\item[WINTER] <NA>\n",
       "\\item[HOLIDAY] -129.167077549417\n",
       "\\item[NO\\textbackslash{}\\_HOLIDAY] <NA>\n",
       "\\end{description*}\n"
      ],
      "text/markdown": [
       "(Intercept)\n",
       ":   216.584058520425TEMPERATURE\n",
       ":   810.603986705408HUMIDITY\n",
       ":   -920.586909252077WIND_SPEED\n",
       ":   -9.31331872226891VISIBILITY\n",
       ":   24.3680486652167DEW_POINT_TEMPERATURE\n",
       ":   632.384298001056SOLAR_RADIATION\n",
       ":   249.752454216444RAINFALL\n",
       ":   -1982.94042307599SNOWFALL\n",
       ":   232.450789844669`0`\n",
       ":   -12.4998037292523`1`\n",
       ":   -125.701499472983`10`\n",
       ":   -222.233261805256`11`\n",
       ":   -231.428410797234`12`\n",
       ":   -194.605041418871`13`\n",
       ":   -189.528425634735`14`\n",
       ":   -183.060291143358`15`\n",
       ":   -103.126884840928`16`\n",
       ":   43.597895314446`17`\n",
       ":   306.732435423589`18`\n",
       ":   782.84150725653`19`\n",
       ":   519.455508376907`2`\n",
       ":   -259.946174337005`20`\n",
       ":   394.634675841615`21`\n",
       ":   430.185214830003`22`\n",
       ":   322.663948586527`23`\n",
       ":   90.1808026195376`3`\n",
       ":   -327.244954867547`4`\n",
       ":   -389.558392056447`5`\n",
       ":   -379.055208923381`6`\n",
       ":   -216.689105145966`7`\n",
       ":   110.491958873144`8`\n",
       ":   502.353807713109`9`\n",
       ":   &lt;NA&gt;AUTUMN\n",
       ":   357.978264973985SPRING\n",
       ":   194.421437093438SUMMER\n",
       ":   172.901302381773WINTER\n",
       ":   &lt;NA&gt;HOLIDAY\n",
       ":   -129.167077549417NO_HOLIDAY\n",
       ":   &lt;NA&gt;\n",
       "\n"
      ],
      "text/plain": [
       "          (Intercept)           TEMPERATURE              HUMIDITY \n",
       "           216.584059            810.603987           -920.586909 \n",
       "           WIND_SPEED            VISIBILITY DEW_POINT_TEMPERATURE \n",
       "            -9.313319             24.368049            632.384298 \n",
       "      SOLAR_RADIATION              RAINFALL              SNOWFALL \n",
       "           249.752454          -1982.940423            232.450790 \n",
       "                  `0`                   `1`                  `10` \n",
       "           -12.499804           -125.701499           -222.233262 \n",
       "                 `11`                  `12`                  `13` \n",
       "          -231.428411           -194.605041           -189.528426 \n",
       "                 `14`                  `15`                  `16` \n",
       "          -183.060291           -103.126885             43.597895 \n",
       "                 `17`                  `18`                  `19` \n",
       "           306.732435            782.841507            519.455508 \n",
       "                  `2`                  `20`                  `21` \n",
       "          -259.946174            394.634676            430.185215 \n",
       "                 `22`                  `23`                   `3` \n",
       "           322.663949             90.180803           -327.244955 \n",
       "                  `4`                   `5`                   `6` \n",
       "          -389.558392           -379.055209           -216.689105 \n",
       "                  `7`                   `8`                   `9` \n",
       "           110.491959            502.353808                    NA \n",
       "               AUTUMN                SPRING                SUMMER \n",
       "           357.978265            194.421437            172.901302 \n",
       "               WINTER               HOLIDAY            NO_HOLIDAY \n",
       "                   NA           -129.167078                    NA "
      ]
     },
     "metadata": {},
     "output_type": "display_data"
    }
   ],
   "source": [
    "lm_model_all$fit$coefficients"
   ]
  },
  {
   "cell_type": "markdown",
   "metadata": {},
   "source": [
    "hmm, it's not very clear to compare the coefficients from a long and unsorted list. Next, you need to sort and visualize them using a bar chart\n"
   ]
  },
  {
   "cell_type": "markdown",
   "metadata": {},
   "source": [
    "*TODO:* Sort the coefficient list in descending order and visualize the result using `ggplot` and `geom_bar`\n"
   ]
  },
  {
   "cell_type": "code",
   "execution_count": 13,
   "metadata": {},
   "outputs": [
    {
     "data": {
      "text/html": [
       "<table>\n",
       "<caption>A data.frame: 36 × 2</caption>\n",
       "<thead>\n",
       "\t<tr><th></th><th scope=col>coefficients</th><th scope=col>variable</th></tr>\n",
       "\t<tr><th></th><th scope=col>&lt;dbl&gt;</th><th scope=col>&lt;fct&gt;</th></tr>\n",
       "</thead>\n",
       "<tbody>\n",
       "\t<tr><th scope=row>RAINFALL</th><td>1982.940423</td><td>RAINFALL             </td></tr>\n",
       "\t<tr><th scope=row>HUMIDITY</th><td> 920.586909</td><td>HUMIDITY             </td></tr>\n",
       "\t<tr><th scope=row>TEMPERATURE</th><td> 810.603987</td><td>`18`                 </td></tr>\n",
       "\t<tr><th scope=row>`18`</th><td> 782.841507</td><td>TEMPERATURE          </td></tr>\n",
       "\t<tr><th scope=row>DEW_POINT_TEMPERATURE</th><td> 632.384298</td><td>DEW_POINT_TEMPERATURE</td></tr>\n",
       "\t<tr><th scope=row>`19`</th><td> 519.455508</td><td>`19`                 </td></tr>\n",
       "\t<tr><th scope=row>`8`</th><td> 502.353808</td><td>`8`                  </td></tr>\n",
       "\t<tr><th scope=row>`21`</th><td> 430.185215</td><td>`21`                 </td></tr>\n",
       "\t<tr><th scope=row>`20`</th><td> 394.634676</td><td>`20`                 </td></tr>\n",
       "\t<tr><th scope=row>`4`</th><td> 389.558392</td><td>`4`                  </td></tr>\n",
       "\t<tr><th scope=row>`5`</th><td> 379.055209</td><td>`5`                  </td></tr>\n",
       "\t<tr><th scope=row>AUTUMN</th><td> 357.978265</td><td>AUTUMN               </td></tr>\n",
       "\t<tr><th scope=row>`3`</th><td> 327.244955</td><td>`22`                 </td></tr>\n",
       "\t<tr><th scope=row>`22`</th><td> 322.663949</td><td>`3`                  </td></tr>\n",
       "\t<tr><th scope=row>`17`</th><td> 306.732435</td><td>`17`                 </td></tr>\n",
       "\t<tr><th scope=row>`2`</th><td> 259.946174</td><td>SOLAR_RADIATION      </td></tr>\n",
       "\t<tr><th scope=row>SOLAR_RADIATION</th><td> 249.752454</td><td>SNOWFALL             </td></tr>\n",
       "\t<tr><th scope=row>SNOWFALL</th><td> 232.450790</td><td>`11`                 </td></tr>\n",
       "\t<tr><th scope=row>`11`</th><td> 231.428411</td><td>`10`                 </td></tr>\n",
       "\t<tr><th scope=row>`10`</th><td> 222.233262</td><td>`2`                  </td></tr>\n",
       "\t<tr><th scope=row>`6`</th><td> 216.689105</td><td>(Intercept)          </td></tr>\n",
       "\t<tr><th scope=row>(Intercept)</th><td> 216.584059</td><td>`12`                 </td></tr>\n",
       "\t<tr><th scope=row>`12`</th><td> 194.605041</td><td>`6`                  </td></tr>\n",
       "\t<tr><th scope=row>SPRING</th><td> 194.421437</td><td>SUMMER               </td></tr>\n",
       "\t<tr><th scope=row>`13`</th><td> 189.528426</td><td>`14`                 </td></tr>\n",
       "\t<tr><th scope=row>`14`</th><td> 183.060291</td><td>SPRING               </td></tr>\n",
       "\t<tr><th scope=row>SUMMER</th><td> 172.901302</td><td>`13`                 </td></tr>\n",
       "\t<tr><th scope=row>HOLIDAY</th><td> 129.167078</td><td>HOLIDAY              </td></tr>\n",
       "\t<tr><th scope=row>`1`</th><td> 125.701499</td><td>`1`                  </td></tr>\n",
       "\t<tr><th scope=row>`7`</th><td> 110.491959</td><td>`15`                 </td></tr>\n",
       "\t<tr><th scope=row>`15`</th><td> 103.126885</td><td>`7`                  </td></tr>\n",
       "\t<tr><th scope=row>`23`</th><td>  90.180803</td><td>`23`                 </td></tr>\n",
       "\t<tr><th scope=row>`16`</th><td>  43.597895</td><td>WIND_SPEED           </td></tr>\n",
       "\t<tr><th scope=row>VISIBILITY</th><td>  24.368049</td><td>`0`                  </td></tr>\n",
       "\t<tr><th scope=row>`0`</th><td>  12.499804</td><td>`16`                 </td></tr>\n",
       "\t<tr><th scope=row>WIND_SPEED</th><td>   9.313319</td><td>VISIBILITY           </td></tr>\n",
       "</tbody>\n",
       "</table>\n"
      ],
      "text/latex": [
       "A data.frame: 36 × 2\n",
       "\\begin{tabular}{r|ll}\n",
       "  & coefficients & variable\\\\\n",
       "  & <dbl> & <fct>\\\\\n",
       "\\hline\n",
       "\tRAINFALL & 1982.940423 & RAINFALL             \\\\\n",
       "\tHUMIDITY &  920.586909 & HUMIDITY             \\\\\n",
       "\tTEMPERATURE &  810.603987 & `18`                 \\\\\n",
       "\t`18` &  782.841507 & TEMPERATURE          \\\\\n",
       "\tDEW\\_POINT\\_TEMPERATURE &  632.384298 & DEW\\_POINT\\_TEMPERATURE\\\\\n",
       "\t`19` &  519.455508 & `19`                 \\\\\n",
       "\t`8` &  502.353808 & `8`                  \\\\\n",
       "\t`21` &  430.185215 & `21`                 \\\\\n",
       "\t`20` &  394.634676 & `20`                 \\\\\n",
       "\t`4` &  389.558392 & `4`                  \\\\\n",
       "\t`5` &  379.055209 & `5`                  \\\\\n",
       "\tAUTUMN &  357.978265 & AUTUMN               \\\\\n",
       "\t`3` &  327.244955 & `22`                 \\\\\n",
       "\t`22` &  322.663949 & `3`                  \\\\\n",
       "\t`17` &  306.732435 & `17`                 \\\\\n",
       "\t`2` &  259.946174 & SOLAR\\_RADIATION      \\\\\n",
       "\tSOLAR\\_RADIATION &  249.752454 & SNOWFALL             \\\\\n",
       "\tSNOWFALL &  232.450790 & `11`                 \\\\\n",
       "\t`11` &  231.428411 & `10`                 \\\\\n",
       "\t`10` &  222.233262 & `2`                  \\\\\n",
       "\t`6` &  216.689105 & (Intercept)          \\\\\n",
       "\t(Intercept) &  216.584059 & `12`                 \\\\\n",
       "\t`12` &  194.605041 & `6`                  \\\\\n",
       "\tSPRING &  194.421437 & SUMMER               \\\\\n",
       "\t`13` &  189.528426 & `14`                 \\\\\n",
       "\t`14` &  183.060291 & SPRING               \\\\\n",
       "\tSUMMER &  172.901302 & `13`                 \\\\\n",
       "\tHOLIDAY &  129.167078 & HOLIDAY              \\\\\n",
       "\t`1` &  125.701499 & `1`                  \\\\\n",
       "\t`7` &  110.491959 & `15`                 \\\\\n",
       "\t`15` &  103.126885 & `7`                  \\\\\n",
       "\t`23` &   90.180803 & `23`                 \\\\\n",
       "\t`16` &   43.597895 & WIND\\_SPEED           \\\\\n",
       "\tVISIBILITY &   24.368049 & `0`                  \\\\\n",
       "\t`0` &   12.499804 & `16`                 \\\\\n",
       "\tWIND\\_SPEED &    9.313319 & VISIBILITY           \\\\\n",
       "\\end{tabular}\n"
      ],
      "text/markdown": [
       "\n",
       "A data.frame: 36 × 2\n",
       "\n",
       "| <!--/--> | coefficients &lt;dbl&gt; | variable &lt;fct&gt; |\n",
       "|---|---|---|\n",
       "| RAINFALL | 1982.940423 | RAINFALL              |\n",
       "| HUMIDITY |  920.586909 | HUMIDITY              |\n",
       "| TEMPERATURE |  810.603987 | `18`                  |\n",
       "| `18` |  782.841507 | TEMPERATURE           |\n",
       "| DEW_POINT_TEMPERATURE |  632.384298 | DEW_POINT_TEMPERATURE |\n",
       "| `19` |  519.455508 | `19`                  |\n",
       "| `8` |  502.353808 | `8`                   |\n",
       "| `21` |  430.185215 | `21`                  |\n",
       "| `20` |  394.634676 | `20`                  |\n",
       "| `4` |  389.558392 | `4`                   |\n",
       "| `5` |  379.055209 | `5`                   |\n",
       "| AUTUMN |  357.978265 | AUTUMN                |\n",
       "| `3` |  327.244955 | `22`                  |\n",
       "| `22` |  322.663949 | `3`                   |\n",
       "| `17` |  306.732435 | `17`                  |\n",
       "| `2` |  259.946174 | SOLAR_RADIATION       |\n",
       "| SOLAR_RADIATION |  249.752454 | SNOWFALL              |\n",
       "| SNOWFALL |  232.450790 | `11`                  |\n",
       "| `11` |  231.428411 | `10`                  |\n",
       "| `10` |  222.233262 | `2`                   |\n",
       "| `6` |  216.689105 | (Intercept)           |\n",
       "| (Intercept) |  216.584059 | `12`                  |\n",
       "| `12` |  194.605041 | `6`                   |\n",
       "| SPRING |  194.421437 | SUMMER                |\n",
       "| `13` |  189.528426 | `14`                  |\n",
       "| `14` |  183.060291 | SPRING                |\n",
       "| SUMMER |  172.901302 | `13`                  |\n",
       "| HOLIDAY |  129.167078 | HOLIDAY               |\n",
       "| `1` |  125.701499 | `1`                   |\n",
       "| `7` |  110.491959 | `15`                  |\n",
       "| `15` |  103.126885 | `7`                   |\n",
       "| `23` |   90.180803 | `23`                  |\n",
       "| `16` |   43.597895 | WIND_SPEED            |\n",
       "| VISIBILITY |   24.368049 | `0`                   |\n",
       "| `0` |   12.499804 | `16`                  |\n",
       "| WIND_SPEED |    9.313319 | VISIBILITY            |\n",
       "\n"
      ],
      "text/plain": [
       "                      coefficients variable             \n",
       "RAINFALL              1982.940423  RAINFALL             \n",
       "HUMIDITY               920.586909  HUMIDITY             \n",
       "TEMPERATURE            810.603987  `18`                 \n",
       "`18`                   782.841507  TEMPERATURE          \n",
       "DEW_POINT_TEMPERATURE  632.384298  DEW_POINT_TEMPERATURE\n",
       "`19`                   519.455508  `19`                 \n",
       "`8`                    502.353808  `8`                  \n",
       "`21`                   430.185215  `21`                 \n",
       "`20`                   394.634676  `20`                 \n",
       "`4`                    389.558392  `4`                  \n",
       "`5`                    379.055209  `5`                  \n",
       "AUTUMN                 357.978265  AUTUMN               \n",
       "`3`                    327.244955  `22`                 \n",
       "`22`                   322.663949  `3`                  \n",
       "`17`                   306.732435  `17`                 \n",
       "`2`                    259.946174  SOLAR_RADIATION      \n",
       "SOLAR_RADIATION        249.752454  SNOWFALL             \n",
       "SNOWFALL               232.450790  `11`                 \n",
       "`11`                   231.428411  `10`                 \n",
       "`10`                   222.233262  `2`                  \n",
       "`6`                    216.689105  (Intercept)          \n",
       "(Intercept)            216.584059  `12`                 \n",
       "`12`                   194.605041  `6`                  \n",
       "SPRING                 194.421437  SUMMER               \n",
       "`13`                   189.528426  `14`                 \n",
       "`14`                   183.060291  SPRING               \n",
       "SUMMER                 172.901302  `13`                 \n",
       "HOLIDAY                129.167078  HOLIDAY              \n",
       "`1`                    125.701499  `1`                  \n",
       "`7`                    110.491959  `15`                 \n",
       "`15`                   103.126885  `7`                  \n",
       "`23`                    90.180803  `23`                 \n",
       "`16`                    43.597895  WIND_SPEED           \n",
       "VISIBILITY              24.368049  `0`                  \n",
       "`0`                     12.499804  `16`                 \n",
       "WIND_SPEED               9.313319  VISIBILITY           "
      ]
     },
     "metadata": {},
     "output_type": "display_data"
    }
   ],
   "source": [
    "# Sort coefficient list\n",
    "sorted_data <- (sort(abs(lm_model_all$fit$coefficients), decreasing = TRUE))\n",
    "sorted_df <- data.frame(sorted_data)\n",
    "names(sorted_df)[1] <- 'coefficients'\n",
    "\n",
    "variable_list <- c('RAINFALL', 'HUMIDITY',  '`18`', 'TEMPERATURE', 'DEW_POINT_TEMPERATURE',\n",
    "                  '`19`', '`8`', '`21`', '`20`', '`4`', '`5`', 'AUTUMN', '`22`', '`3`',\n",
    "                  '`17`', 'SOLAR_RADIATION', 'SNOWFALL', '`11`', '`10`', '`2`', '(Intercept)',\n",
    "                  '`12`', '`6`', 'SUMMER', '`14`', 'SPRING', '`13`', 'HOLIDAY', '`1`', \n",
    "                  '`15`', '`7`',  '`23`', 'WIND_SPEED', '`0`',  '`16`', 'VISIBILITY')\n",
    "\n",
    "sorted_df$variable <- variable_list\n",
    "sorted_df$variable <- factor(sorted_df$variable, levels = sorted_df$variable[order(sorted_df$coefficients)])\n",
    "\n",
    "sorted_df"
   ]
  },
  {
   "cell_type": "code",
   "execution_count": 14,
   "metadata": {},
   "outputs": [
    {
     "data": {},
     "metadata": {},
     "output_type": "display_data"
    },
    {
     "data": {
      "image/png": "[encoded data removed]",
      "text/plain": [
       "plot without title"
      ]
     },
     "metadata": {},
     "output_type": "display_data",
     "source": "R display func"
    }
   ],
   "source": [
    "# Visualize the list using ggplot and geom_bar\n",
    "ggplot(sorted_df, aes(x=variable, y=coefficients)) + \n",
    "  geom_bar(stat=\"identity\", fill = \"blue\") + coord_flip()"
   ]
  },
  {
   "cell_type": "markdown",
   "metadata": {},
   "source": [
    "You should see a sorted coefficient bar chart like the following example:\n"
   ]
  },
  {
   "cell_type": "markdown",
   "metadata": {},
   "source": [
    "<a href=\"https://cognitiveclass.ai/?utm_medium=Exinfluencer&utm_source=Exinfluencer&utm_content=000026UJ&utm_term=10006555&utm_id=NA-SkillsNetwork-Channel-SkillsNetworkCoursesIBMDeveloperSkillsNetworkRP0321ENSkillsNetwork25371262-2022-01-01\">\n",
    "    <img src=\"https://cf-courses-data.s3.us.cloud-object-storage.appdomain.cloud/IBMDeveloperSkillsNetwork-RP0321EN-SkillsNetwork/labs/module_4/images/coefficient_chart.png\" width=\"600\" align=\"center\">\n",
    "</a>\n"
   ]
  },
  {
   "cell_type": "markdown",
   "metadata": {},
   "source": [
    "Mark down these 'top-ranked variables by coefficient', which will be used for model refinments in the next labs.\n"
   ]
  },
  {
   "cell_type": "markdown",
   "metadata": {},
   "source": [
    "Note that here the main reason we use absolute value is to easily identify important variables, i.e. variables with large magnitudes, no matter it's negative or positive. If we want to interprete the model then it's better to seperate the positive and negative coefficients.\n"
   ]
  },
  {
   "cell_type": "markdown",
   "metadata": {},
   "source": [
    "# Next Steps\n"
   ]
  },
  {
   "cell_type": "markdown",
   "metadata": {},
   "source": [
    "Great! Now you have built a baseline linear regression model to predict hourly bike rent count, with reasonably good performance. In the next lab, you will be refining the baseline model to improve its performance.\n"
   ]
  },
  {
   "cell_type": "markdown",
   "metadata": {},
   "source": [
    "## Authors\n",
    "\n",
    "<a href=\"https://www.linkedin.com/in/yan-luo-96288783/?utm_medium=Exinfluencer&utm_source=Exinfluencer&utm_content=000026UJ&utm_term=10006555&utm_id=NA-SkillsNetwork-Channel-SkillsNetworkCoursesIBMDeveloperSkillsNetworkRP0321ENSkillsNetwork25371262-2022-01-01\" target=\"_blank\">Yan Luo</a>\n"
   ]
  },
  {
   "cell_type": "markdown",
   "metadata": {},
   "source": [
    "### Other Contributors\n",
    "\n",
    "Jeff Grossman\n"
   ]
  },
  {
   "cell_type": "markdown",
   "metadata": {},
   "source": [
    "## Change Log\n",
    "\n",
    "| Date (YYYY-MM-DD) | Version | Changed By | Change Description      |\n",
    "| ----------------- | ------- | ---------- | ----------------------- |\n",
    "| 2021-04-08        | 1.0     | Yan        | Initial version created |\n",
    "|                   |         |            |                         |\n",
    "|                   |         |            |                         |\n",
    "\n",
    "## <h3 align=\"center\"> © IBM Corporation 2021. All rights reserved. <h3/>\n"
   ]
  }
 ],
 "metadata": {
  "kernelspec": {
   "display_name": "R",
   "language": "R",
   "name": "conda-env-r-r"
  },
  "language_info": {
   "codemirror_mode": "r",
   "file_extension": ".r",
   "mimetype": "text/x-r-source",
   "name": "R",
   "pygments_lexer": "r",
   "version": "3.5.1"
  }
 },
 "nbformat": 4,
 "nbformat_minor": 4
}
